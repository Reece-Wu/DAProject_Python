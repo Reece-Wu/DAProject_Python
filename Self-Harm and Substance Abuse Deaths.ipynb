{
 "cells": [
  {
   "cell_type": "code",
   "execution_count": 90,
   "id": "c748e757",
   "metadata": {},
   "outputs": [],
   "source": [
    "# https://www.kaggle.com/datasets/thomaseltonau/self-harm-and-substance-abuse-deaths-worldwide/data"
   ]
  },
  {
   "cell_type": "code",
   "execution_count": 91,
   "id": "cbb3247d",
   "metadata": {},
   "outputs": [],
   "source": [
    "import pandas as pd\n",
    "import numpy as np\n",
    "import matplotlib.pyplot as plt\n",
    "import seaborn as sns"
   ]
  },
  {
   "cell_type": "code",
   "execution_count": 92,
   "id": "3886fbc5",
   "metadata": {
    "scrolled": true
   },
   "outputs": [
    {
     "data": {
      "text/html": [
       "<div>\n",
       "<style scoped>\n",
       "    .dataframe tbody tr th:only-of-type {\n",
       "        vertical-align: middle;\n",
       "    }\n",
       "\n",
       "    .dataframe tbody tr th {\n",
       "        vertical-align: top;\n",
       "    }\n",
       "\n",
       "    .dataframe thead th {\n",
       "        text-align: right;\n",
       "    }\n",
       "</style>\n",
       "<table border=\"1\" class=\"dataframe\">\n",
       "  <thead>\n",
       "    <tr style=\"text-align: right;\">\n",
       "      <th></th>\n",
       "      <th>Year</th>\n",
       "      <th>Cause</th>\n",
       "      <th>Age_Range</th>\n",
       "      <th>ISO_Code</th>\n",
       "      <th>Sex</th>\n",
       "      <th>Deaths</th>\n",
       "      <th>Age_and_Sex_Population</th>\n",
       "      <th>Country</th>\n",
       "    </tr>\n",
       "  </thead>\n",
       "  <tbody>\n",
       "    <tr>\n",
       "      <th>0</th>\n",
       "      <td>2017</td>\n",
       "      <td>Intentional self-harm</td>\n",
       "      <td>0</td>\n",
       "      <td>GBR</td>\n",
       "      <td>Female</td>\n",
       "      <td>0</td>\n",
       "      <td>743552.0</td>\n",
       "      <td>United Kingdom</td>\n",
       "    </tr>\n",
       "    <tr>\n",
       "      <th>1</th>\n",
       "      <td>2017</td>\n",
       "      <td>Intentional self-harm</td>\n",
       "      <td>0</td>\n",
       "      <td>GBR</td>\n",
       "      <td>Male</td>\n",
       "      <td>0</td>\n",
       "      <td>782850.0</td>\n",
       "      <td>United Kingdom</td>\n",
       "    </tr>\n",
       "    <tr>\n",
       "      <th>2</th>\n",
       "      <td>2017</td>\n",
       "      <td>Intentional self-harm</td>\n",
       "      <td>1</td>\n",
       "      <td>GBR</td>\n",
       "      <td>Female</td>\n",
       "      <td>0</td>\n",
       "      <td>768444.0</td>\n",
       "      <td>United Kingdom</td>\n",
       "    </tr>\n",
       "    <tr>\n",
       "      <th>3</th>\n",
       "      <td>2017</td>\n",
       "      <td>Intentional self-harm</td>\n",
       "      <td>1</td>\n",
       "      <td>GBR</td>\n",
       "      <td>Male</td>\n",
       "      <td>0</td>\n",
       "      <td>810126.0</td>\n",
       "      <td>United Kingdom</td>\n",
       "    </tr>\n",
       "    <tr>\n",
       "      <th>4</th>\n",
       "      <td>2017</td>\n",
       "      <td>Intentional self-harm</td>\n",
       "      <td>10-14</td>\n",
       "      <td>GBR</td>\n",
       "      <td>Female</td>\n",
       "      <td>16</td>\n",
       "      <td>3640314.0</td>\n",
       "      <td>United Kingdom</td>\n",
       "    </tr>\n",
       "  </tbody>\n",
       "</table>\n",
       "</div>"
      ],
      "text/plain": [
       "   Year                  Cause Age_Range ISO_Code     Sex  Deaths  \\\n",
       "0  2017  Intentional self-harm         0      GBR  Female       0   \n",
       "1  2017  Intentional self-harm         0      GBR    Male       0   \n",
       "2  2017  Intentional self-harm         1      GBR  Female       0   \n",
       "3  2017  Intentional self-harm         1      GBR    Male       0   \n",
       "4  2017  Intentional self-harm     10-14      GBR  Female      16   \n",
       "\n",
       "   Age_and_Sex_Population         Country  \n",
       "0                743552.0  United Kingdom  \n",
       "1                782850.0  United Kingdom  \n",
       "2                768444.0  United Kingdom  \n",
       "3                810126.0  United Kingdom  \n",
       "4               3640314.0  United Kingdom  "
      ]
     },
     "execution_count": 92,
     "metadata": {},
     "output_type": "execute_result"
    }
   ],
   "source": [
    "df = pd.read_csv('/Users/reecewu/Desktop/DAproject/Self Harm and Substance Abuse Deaths_231126/Self Harm and Substance Abuse Deaths.csv')\n",
    "\n",
    "df.head()"
   ]
  },
  {
   "cell_type": "markdown",
   "id": "3f019415",
   "metadata": {},
   "source": [
    "# Clean Data"
   ]
  },
  {
   "cell_type": "code",
   "execution_count": 93,
   "id": "3d6c7016",
   "metadata": {
    "scrolled": true
   },
   "outputs": [
    {
     "name": "stdout",
     "output_type": "stream",
     "text": [
      "<class 'pandas.core.frame.DataFrame'>\n",
      "RangeIndex: 48631 entries, 0 to 48630\n",
      "Data columns (total 8 columns):\n",
      " #   Column                  Non-Null Count  Dtype  \n",
      "---  ------                  --------------  -----  \n",
      " 0   Year                    48631 non-null  int64  \n",
      " 1   Cause                   48631 non-null  object \n",
      " 2   Age_Range               48631 non-null  object \n",
      " 3   ISO_Code                48631 non-null  object \n",
      " 4   Sex                     48631 non-null  object \n",
      " 5   Deaths                  48631 non-null  int64  \n",
      " 6   Age_and_Sex_Population  28987 non-null  float64\n",
      " 7   Country                 48631 non-null  object \n",
      "dtypes: float64(1), int64(2), object(5)\n",
      "memory usage: 3.0+ MB\n"
     ]
    }
   ],
   "source": [
    "df.info()"
   ]
  },
  {
   "cell_type": "code",
   "execution_count": 94,
   "id": "d57b743a",
   "metadata": {},
   "outputs": [
    {
     "data": {
      "text/plain": [
       "array(['Intentional self-harm',\n",
       "       'Mental and behavioural disorders due to psychoactive substance use'],\n",
       "      dtype=object)"
      ]
     },
     "execution_count": 94,
     "metadata": {},
     "output_type": "execute_result"
    }
   ],
   "source": [
    "df['Cause'].unique()"
   ]
  },
  {
   "cell_type": "code",
   "execution_count": 95,
   "id": "4feee3d7",
   "metadata": {},
   "outputs": [],
   "source": [
    "df.loc[df['Cause'] == 'Intentional self-harm', 'Cause'] = 'self-harm'\n",
    "df.loc[df['Cause'] == 'Mental and behavioural disorders due to psychoactive substance use', 'Cause'] = 'substance abuse'"
   ]
  },
  {
   "cell_type": "code",
   "execution_count": 96,
   "id": "66d62cdf",
   "metadata": {},
   "outputs": [
    {
     "data": {
      "text/plain": [
       "array(['0', '1', '10-14', '15-19', '2', '20-24', '25-29', '3', '30-34',\n",
       "       '35-39', '4', '40-44', '45-49', '5-9', '50-54', '55-59', '60-64',\n",
       "       '65-69', '70-74', '75-79', '80-84', '85-89', '90-94', '95+', 'All',\n",
       "       'Unknown', '1-4', '85+', '15-24', '25-34', '35-44', '45-54',\n",
       "       '5-14', '55-64', '65-74', '75+'], dtype=object)"
      ]
     },
     "execution_count": 96,
     "metadata": {},
     "output_type": "execute_result"
    }
   ],
   "source": [
    "df['Age_Range'].unique()"
   ]
  },
  {
   "cell_type": "code",
   "execution_count": 97,
   "id": "40ed8a8f",
   "metadata": {},
   "outputs": [
    {
     "data": {
      "text/html": [
       "<div>\n",
       "<style scoped>\n",
       "    .dataframe tbody tr th:only-of-type {\n",
       "        vertical-align: middle;\n",
       "    }\n",
       "\n",
       "    .dataframe tbody tr th {\n",
       "        vertical-align: top;\n",
       "    }\n",
       "\n",
       "    .dataframe thead th {\n",
       "        text-align: right;\n",
       "    }\n",
       "</style>\n",
       "<table border=\"1\" class=\"dataframe\">\n",
       "  <thead>\n",
       "    <tr style=\"text-align: right;\">\n",
       "      <th></th>\n",
       "      <th>Year</th>\n",
       "      <th>Cause</th>\n",
       "      <th>Age_Range</th>\n",
       "      <th>ISO_Code</th>\n",
       "      <th>Sex</th>\n",
       "      <th>Deaths</th>\n",
       "      <th>Age_and_Sex_Population</th>\n",
       "      <th>Country</th>\n",
       "    </tr>\n",
       "  </thead>\n",
       "  <tbody>\n",
       "    <tr>\n",
       "      <th>0</th>\n",
       "      <td>2017</td>\n",
       "      <td>self-harm</td>\n",
       "      <td>10-14</td>\n",
       "      <td>GBR</td>\n",
       "      <td>Female</td>\n",
       "      <td>16</td>\n",
       "      <td>3640314.0</td>\n",
       "      <td>United Kingdom</td>\n",
       "    </tr>\n",
       "    <tr>\n",
       "      <th>1</th>\n",
       "      <td>2017</td>\n",
       "      <td>self-harm</td>\n",
       "      <td>10-14</td>\n",
       "      <td>GBR</td>\n",
       "      <td>Male</td>\n",
       "      <td>16</td>\n",
       "      <td>3826458.0</td>\n",
       "      <td>United Kingdom</td>\n",
       "    </tr>\n",
       "    <tr>\n",
       "      <th>2</th>\n",
       "      <td>2017</td>\n",
       "      <td>self-harm</td>\n",
       "      <td>15-19</td>\n",
       "      <td>GBR</td>\n",
       "      <td>Female</td>\n",
       "      <td>104</td>\n",
       "      <td>3605202.0</td>\n",
       "      <td>United Kingdom</td>\n",
       "    </tr>\n",
       "    <tr>\n",
       "      <th>3</th>\n",
       "      <td>2017</td>\n",
       "      <td>self-harm</td>\n",
       "      <td>15-19</td>\n",
       "      <td>GBR</td>\n",
       "      <td>Male</td>\n",
       "      <td>208</td>\n",
       "      <td>3803268.0</td>\n",
       "      <td>United Kingdom</td>\n",
       "    </tr>\n",
       "    <tr>\n",
       "      <th>4</th>\n",
       "      <td>2017</td>\n",
       "      <td>self-harm</td>\n",
       "      <td>20-24</td>\n",
       "      <td>GBR</td>\n",
       "      <td>Female</td>\n",
       "      <td>136</td>\n",
       "      <td>4097544.0</td>\n",
       "      <td>United Kingdom</td>\n",
       "    </tr>\n",
       "    <tr>\n",
       "      <th>...</th>\n",
       "      <td>...</td>\n",
       "      <td>...</td>\n",
       "      <td>...</td>\n",
       "      <td>...</td>\n",
       "      <td>...</td>\n",
       "      <td>...</td>\n",
       "      <td>...</td>\n",
       "      <td>...</td>\n",
       "    </tr>\n",
       "    <tr>\n",
       "      <th>35080</th>\n",
       "      <td>2017</td>\n",
       "      <td>substance abuse</td>\n",
       "      <td>75-79</td>\n",
       "      <td>VIR</td>\n",
       "      <td>All</td>\n",
       "      <td>0</td>\n",
       "      <td>NaN</td>\n",
       "      <td>Virgin Islands (USA)</td>\n",
       "    </tr>\n",
       "    <tr>\n",
       "      <th>35081</th>\n",
       "      <td>2017</td>\n",
       "      <td>substance abuse</td>\n",
       "      <td>80-84</td>\n",
       "      <td>VIR</td>\n",
       "      <td>All</td>\n",
       "      <td>1</td>\n",
       "      <td>NaN</td>\n",
       "      <td>Virgin Islands (USA)</td>\n",
       "    </tr>\n",
       "    <tr>\n",
       "      <th>35082</th>\n",
       "      <td>2017</td>\n",
       "      <td>substance abuse</td>\n",
       "      <td>85-89</td>\n",
       "      <td>VIR</td>\n",
       "      <td>All</td>\n",
       "      <td>0</td>\n",
       "      <td>NaN</td>\n",
       "      <td>Virgin Islands (USA)</td>\n",
       "    </tr>\n",
       "    <tr>\n",
       "      <th>35083</th>\n",
       "      <td>2017</td>\n",
       "      <td>substance abuse</td>\n",
       "      <td>90-94</td>\n",
       "      <td>VIR</td>\n",
       "      <td>All</td>\n",
       "      <td>0</td>\n",
       "      <td>NaN</td>\n",
       "      <td>Virgin Islands (USA)</td>\n",
       "    </tr>\n",
       "    <tr>\n",
       "      <th>35084</th>\n",
       "      <td>2017</td>\n",
       "      <td>substance abuse</td>\n",
       "      <td>95+</td>\n",
       "      <td>VIR</td>\n",
       "      <td>All</td>\n",
       "      <td>0</td>\n",
       "      <td>NaN</td>\n",
       "      <td>Virgin Islands (USA)</td>\n",
       "    </tr>\n",
       "  </tbody>\n",
       "</table>\n",
       "<p>35085 rows × 8 columns</p>\n",
       "</div>"
      ],
      "text/plain": [
       "       Year            Cause Age_Range ISO_Code     Sex  Deaths  \\\n",
       "0      2017        self-harm     10-14      GBR  Female      16   \n",
       "1      2017        self-harm     10-14      GBR    Male      16   \n",
       "2      2017        self-harm     15-19      GBR  Female     104   \n",
       "3      2017        self-harm     15-19      GBR    Male     208   \n",
       "4      2017        self-harm     20-24      GBR  Female     136   \n",
       "...     ...              ...       ...      ...     ...     ...   \n",
       "35080  2017  substance abuse     75-79      VIR     All       0   \n",
       "35081  2017  substance abuse     80-84      VIR     All       1   \n",
       "35082  2017  substance abuse     85-89      VIR     All       0   \n",
       "35083  2017  substance abuse     90-94      VIR     All       0   \n",
       "35084  2017  substance abuse       95+      VIR     All       0   \n",
       "\n",
       "       Age_and_Sex_Population               Country  \n",
       "0                   3640314.0        United Kingdom  \n",
       "1                   3826458.0        United Kingdom  \n",
       "2                   3605202.0        United Kingdom  \n",
       "3                   3803268.0        United Kingdom  \n",
       "4                   4097544.0        United Kingdom  \n",
       "...                       ...                   ...  \n",
       "35080                     NaN  Virgin Islands (USA)  \n",
       "35081                     NaN  Virgin Islands (USA)  \n",
       "35082                     NaN  Virgin Islands (USA)  \n",
       "35083                     NaN  Virgin Islands (USA)  \n",
       "35084                     NaN  Virgin Islands (USA)  \n",
       "\n",
       "[35085 rows x 8 columns]"
      ]
     },
     "execution_count": 97,
     "metadata": {},
     "output_type": "execute_result"
    }
   ],
   "source": [
    "delete_age = ['0', '1', '2', '3', '4', 'All', 'Unknown', '85+', '15-24', '25-34', \n",
    "              '35-44', '45-54','5-14', '55-64', '65-74', '75+']\n",
    "\n",
    "df = df[~df['Age_Range'].isin(delete_age)].reset_index(drop = True)\n",
    "\n",
    "df"
   ]
  },
  {
   "cell_type": "code",
   "execution_count": 98,
   "id": "d056a6ea",
   "metadata": {},
   "outputs": [
    {
     "data": {
      "text/plain": [
       "array(['GBR', 'EGY', 'LBY', 'MUS', 'SYC', 'ZAF', 'TUN', 'AIA', 'ATG',\n",
       "       'ARG', 'ABW', 'BMU', 'BRA', 'CAN', 'CHL', 'COL', 'CRI', 'CUB',\n",
       "       'DMA', 'DOM', 'ECU', 'SLV', 'GRD', 'GTM', 'GUY', 'MEX', 'NIC',\n",
       "       'PAN', 'PRY', 'PER', 'PRI', 'LCA', 'VCT', 'TCA', 'USA', 'VIR',\n",
       "       'URY', 'BRN', 'CYP', 'HKG', 'ISR', 'JPN', 'JOR', 'KWT', 'LBN',\n",
       "       'MYS', 'MDV', 'MNG', 'PSE', 'OMN', 'PHL', 'QAT', 'KOR', 'SGP',\n",
       "       'THA', 'TUR', 'ARE', 'ARM', 'AUT', 'BLR', 'BEL', 'BIH', 'BGR',\n",
       "       'HRV', 'CZE', 'DNK', 'EST', 'FIN', 'FRA', 'GEO', 'DEU', 'GRC',\n",
       "       'HUN', 'ISL', 'IRL', 'ITA', 'KAZ', 'KGZ', 'LVA', 'LTU', 'LUX',\n",
       "       'MKD', 'MLT', 'MNE', 'NLD', 'POL', 'PRT', 'MDA', 'ROU', 'RUS',\n",
       "       'SRB', 'SVK', 'SVN', 'ESP', 'SWE', 'CHE', 'TJK', 'UKR', 'UZB',\n",
       "       'AUS', 'SLB'], dtype=object)"
      ]
     },
     "execution_count": 98,
     "metadata": {},
     "output_type": "execute_result"
    }
   ],
   "source": [
    "df['ISO_Code'].unique()"
   ]
  },
  {
   "cell_type": "code",
   "execution_count": 99,
   "id": "a4208ee6",
   "metadata": {},
   "outputs": [
    {
     "data": {
      "text/plain": [
       "array(['Female', 'Male', 'Unspecified', 'All'], dtype=object)"
      ]
     },
     "execution_count": 99,
     "metadata": {},
     "output_type": "execute_result"
    }
   ],
   "source": [
    "df['Sex'].unique()"
   ]
  },
  {
   "cell_type": "code",
   "execution_count": 100,
   "id": "225be747",
   "metadata": {
    "scrolled": true
   },
   "outputs": [
    {
     "data": {
      "text/html": [
       "<div>\n",
       "<style scoped>\n",
       "    .dataframe tbody tr th:only-of-type {\n",
       "        vertical-align: middle;\n",
       "    }\n",
       "\n",
       "    .dataframe tbody tr th {\n",
       "        vertical-align: top;\n",
       "    }\n",
       "\n",
       "    .dataframe thead th {\n",
       "        text-align: right;\n",
       "    }\n",
       "</style>\n",
       "<table border=\"1\" class=\"dataframe\">\n",
       "  <thead>\n",
       "    <tr style=\"text-align: right;\">\n",
       "      <th></th>\n",
       "      <th>Year</th>\n",
       "      <th>Cause</th>\n",
       "      <th>Age_Range</th>\n",
       "      <th>ISO_Code</th>\n",
       "      <th>Sex</th>\n",
       "      <th>Deaths</th>\n",
       "      <th>Age_and_Sex_Population</th>\n",
       "      <th>Country</th>\n",
       "    </tr>\n",
       "  </thead>\n",
       "  <tbody>\n",
       "    <tr>\n",
       "      <th>0</th>\n",
       "      <td>2017</td>\n",
       "      <td>self-harm</td>\n",
       "      <td>10-14</td>\n",
       "      <td>GBR</td>\n",
       "      <td>Female</td>\n",
       "      <td>16</td>\n",
       "      <td>3640314.0</td>\n",
       "      <td>United Kingdom</td>\n",
       "    </tr>\n",
       "    <tr>\n",
       "      <th>1</th>\n",
       "      <td>2017</td>\n",
       "      <td>self-harm</td>\n",
       "      <td>10-14</td>\n",
       "      <td>GBR</td>\n",
       "      <td>Male</td>\n",
       "      <td>16</td>\n",
       "      <td>3826458.0</td>\n",
       "      <td>United Kingdom</td>\n",
       "    </tr>\n",
       "    <tr>\n",
       "      <th>2</th>\n",
       "      <td>2017</td>\n",
       "      <td>self-harm</td>\n",
       "      <td>15-19</td>\n",
       "      <td>GBR</td>\n",
       "      <td>Female</td>\n",
       "      <td>104</td>\n",
       "      <td>3605202.0</td>\n",
       "      <td>United Kingdom</td>\n",
       "    </tr>\n",
       "    <tr>\n",
       "      <th>3</th>\n",
       "      <td>2017</td>\n",
       "      <td>self-harm</td>\n",
       "      <td>15-19</td>\n",
       "      <td>GBR</td>\n",
       "      <td>Male</td>\n",
       "      <td>208</td>\n",
       "      <td>3803268.0</td>\n",
       "      <td>United Kingdom</td>\n",
       "    </tr>\n",
       "    <tr>\n",
       "      <th>4</th>\n",
       "      <td>2017</td>\n",
       "      <td>self-harm</td>\n",
       "      <td>20-24</td>\n",
       "      <td>GBR</td>\n",
       "      <td>Female</td>\n",
       "      <td>136</td>\n",
       "      <td>4097544.0</td>\n",
       "      <td>United Kingdom</td>\n",
       "    </tr>\n",
       "    <tr>\n",
       "      <th>...</th>\n",
       "      <td>...</td>\n",
       "      <td>...</td>\n",
       "      <td>...</td>\n",
       "      <td>...</td>\n",
       "      <td>...</td>\n",
       "      <td>...</td>\n",
       "      <td>...</td>\n",
       "      <td>...</td>\n",
       "    </tr>\n",
       "    <tr>\n",
       "      <th>23057</th>\n",
       "      <td>2017</td>\n",
       "      <td>self-harm</td>\n",
       "      <td>75-79</td>\n",
       "      <td>SLB</td>\n",
       "      <td>Male</td>\n",
       "      <td>0</td>\n",
       "      <td>NaN</td>\n",
       "      <td>Solomon Islands</td>\n",
       "    </tr>\n",
       "    <tr>\n",
       "      <th>23058</th>\n",
       "      <td>2017</td>\n",
       "      <td>self-harm</td>\n",
       "      <td>80-84</td>\n",
       "      <td>SLB</td>\n",
       "      <td>Male</td>\n",
       "      <td>0</td>\n",
       "      <td>NaN</td>\n",
       "      <td>Solomon Islands</td>\n",
       "    </tr>\n",
       "    <tr>\n",
       "      <th>23059</th>\n",
       "      <td>2017</td>\n",
       "      <td>self-harm</td>\n",
       "      <td>85-89</td>\n",
       "      <td>SLB</td>\n",
       "      <td>Male</td>\n",
       "      <td>0</td>\n",
       "      <td>NaN</td>\n",
       "      <td>Solomon Islands</td>\n",
       "    </tr>\n",
       "    <tr>\n",
       "      <th>23060</th>\n",
       "      <td>2017</td>\n",
       "      <td>self-harm</td>\n",
       "      <td>90-94</td>\n",
       "      <td>SLB</td>\n",
       "      <td>Male</td>\n",
       "      <td>0</td>\n",
       "      <td>NaN</td>\n",
       "      <td>Solomon Islands</td>\n",
       "    </tr>\n",
       "    <tr>\n",
       "      <th>23061</th>\n",
       "      <td>2017</td>\n",
       "      <td>self-harm</td>\n",
       "      <td>95+</td>\n",
       "      <td>SLB</td>\n",
       "      <td>Male</td>\n",
       "      <td>0</td>\n",
       "      <td>NaN</td>\n",
       "      <td>Solomon Islands</td>\n",
       "    </tr>\n",
       "  </tbody>\n",
       "</table>\n",
       "<p>23062 rows × 8 columns</p>\n",
       "</div>"
      ],
      "text/plain": [
       "       Year      Cause Age_Range ISO_Code     Sex  Deaths  \\\n",
       "0      2017  self-harm     10-14      GBR  Female      16   \n",
       "1      2017  self-harm     10-14      GBR    Male      16   \n",
       "2      2017  self-harm     15-19      GBR  Female     104   \n",
       "3      2017  self-harm     15-19      GBR    Male     208   \n",
       "4      2017  self-harm     20-24      GBR  Female     136   \n",
       "...     ...        ...       ...      ...     ...     ...   \n",
       "23057  2017  self-harm     75-79      SLB    Male       0   \n",
       "23058  2017  self-harm     80-84      SLB    Male       0   \n",
       "23059  2017  self-harm     85-89      SLB    Male       0   \n",
       "23060  2017  self-harm     90-94      SLB    Male       0   \n",
       "23061  2017  self-harm       95+      SLB    Male       0   \n",
       "\n",
       "       Age_and_Sex_Population          Country  \n",
       "0                   3640314.0   United Kingdom  \n",
       "1                   3826458.0   United Kingdom  \n",
       "2                   3605202.0   United Kingdom  \n",
       "3                   3803268.0   United Kingdom  \n",
       "4                   4097544.0   United Kingdom  \n",
       "...                       ...              ...  \n",
       "23057                     NaN  Solomon Islands  \n",
       "23058                     NaN  Solomon Islands  \n",
       "23059                     NaN  Solomon Islands  \n",
       "23060                     NaN  Solomon Islands  \n",
       "23061                     NaN  Solomon Islands  \n",
       "\n",
       "[23062 rows x 8 columns]"
      ]
     },
     "execution_count": 100,
     "metadata": {},
     "output_type": "execute_result"
    }
   ],
   "source": [
    "df = df[~df['Sex'].isin(['All'])].reset_index(drop = True)\n",
    "\n",
    "df"
   ]
  },
  {
   "cell_type": "markdown",
   "id": "430d691d",
   "metadata": {},
   "source": [
    "# Visualization"
   ]
  },
  {
   "cell_type": "code",
   "execution_count": 101,
   "id": "6a9f0acf",
   "metadata": {
    "scrolled": true
   },
   "outputs": [
    {
     "data": {
      "image/png": "[encoded data removed]",
      "text/plain": [
       "<Figure size 1000x1000 with 2 Axes>"
      ]
     },
     "metadata": {},
     "output_type": "display_data"
    }
   ],
   "source": [
    "selfharm_data = df[df['Cause'] == 'self-harm']\n",
    "AgeSex_vs_selfharm = selfharm_data.groupby(['Age_Range', 'Sex'])['Deaths'].sum().reset_index()\n",
    "AgeSex_vs_selfharm['Age_Sort'] = AgeSex_vs_selfharm['Age_Range'].str.replace('\\+', '', regex = True).str.split('-').str[0]\n",
    "AgeSex_vs_selfharm['Age_Sort'] = AgeSex_vs_selfharm['Age_Sort'].astype(int)\n",
    "AgeSex_vs_selfharm.sort_values(by = 'Age_Sort', inplace = True)\n",
    "AgeSex_vs_selfharm.drop(columns = 'Age_Sort', inplace = True)\n",
    "\n",
    "substance_abuse_data = df[df['Cause'] == 'substance abuse']\n",
    "AgeSex_vs_substance_abuse = substance_abuse_data.groupby(['Age_Range', 'Sex'])['Deaths'].sum().reset_index()\n",
    "AgeSex_vs_substance_abuse['Age_Sort'] = AgeSex_vs_substance_abuse['Age_Range'].str.replace('\\+', '', regex = True).str.split('-').str[0]\n",
    "AgeSex_vs_substance_abuse['Age_Sort'] = AgeSex_vs_substance_abuse['Age_Sort'].astype(int)\n",
    "AgeSex_vs_substance_abuse.sort_values(by = 'Age_Sort', inplace = True)\n",
    "AgeSex_vs_substance_abuse.drop(columns = 'Age_Sort', inplace = True)\n",
    "\n",
    "age_ranges = AgeSex_vs_selfharm['Age_Range'].unique()\n",
    "x = range(len(age_ranges))\n",
    "\n",
    "bar_width = 0.4\n",
    "\n",
    "fig, axs = plt.subplots(2, 1, figsize=(10, 10))\n",
    "plt.subplots_adjust(hspace = 0.4)\n",
    "\n",
    "# 1\n",
    "axs[0].bar(x, AgeSex_vs_selfharm[AgeSex_vs_selfharm['Sex'] == 'Male']['Deaths'], width = bar_width, label = 'Male', color = 'royalblue')\n",
    "axs[0].bar([i + bar_width for i in x], AgeSex_vs_selfharm[AgeSex_vs_selfharm['Sex'] == 'Female']['Deaths'], width = bar_width, label = 'Female', color = 'orange')\n",
    "\n",
    "axs[0].set_xlabel('Age & Sex')\n",
    "axs[0].set_ylabel('Deaths')\n",
    "axs[0].set_title('Number of Deaths by Age and Sex (Self-Harm)')\n",
    "\n",
    "axs[0].set_xticks([i + bar_width/2 for i in x], age_ranges, rotation = 90)\n",
    "axs[0].legend()\n",
    "# 2\n",
    "axs[1].bar(x, AgeSex_vs_substance_abuse[AgeSex_vs_substance_abuse['Sex'] == 'Male']['Deaths'], width = bar_width, label = 'Male', color = 'royalblue')\n",
    "axs[1].bar([i + bar_width for i in x], AgeSex_vs_substance_abuse[AgeSex_vs_substance_abuse['Sex'] == 'Female']['Deaths'], width = bar_width, label = 'Female', color = 'orange')\n",
    "\n",
    "axs[1].set_xlabel('Age & Sex')\n",
    "axs[1].set_ylabel('Deaths')\n",
    "axs[1].set_title('Number of Deaths by Age and Sex (Substance Abuse)')\n",
    "\n",
    "axs[1].set_xticks([i + bar_width/2 for i in x], age_ranges, rotation = 90)\n",
    "axs[1].legend()\n",
    "\n",
    "plt.show()\n"
   ]
  },
  {
   "cell_type": "code",
   "execution_count": 102,
   "id": "98e491d5",
   "metadata": {
    "scrolled": true
   },
   "outputs": [
    {
     "data": {
      "application/vnd.plotly.v1+json": {
       "config": {
        "plotlyServerURL": "https://plot.ly"
       },
       "data": [
        {
         "coloraxis": "coloraxis",
         "geo": "geo",
         "hovertemplate": "ISO_Code=%{location}<br>Deaths=%{z}<extra></extra>",
         "locations": [
          "ABW",
          "AIA",
          "ARE",
          "ARG",
          "ARM",
          "ATG",
          "AUS",
          "AUT",
          "BEL",
          "BGR",
          "BIH",
          "BLR",
          "BMU",
          "BRA",
          "BRN",
          "CAN",
          "CHE",
          "CHL",
          "COL",
          "CRI",
          "CUB",
          "CYP",
          "CZE",
          "DEU",
          "DMA",
          "DNK",
          "DOM",
          "ECU",
          "EGY",
          "ESP",
          "EST",
          "FIN",
          "FRA",
          "GBR",
          "GEO",
          "GRC",
          "GRD",
          "GTM",
          "GUY",
          "HKG",
          "HRV",
          "HUN",
          "IRL",
          "ISL",
          "ISR",
          "ITA",
          "JOR",
          "JPN",
          "KAZ",
          "KGZ",
          "KOR",
          "KWT",
          "LBN",
          "LBY",
          "LCA",
          "LTU",
          "LUX",
          "LVA",
          "MDA",
          "MDV",
          "MEX",
          "MKD",
          "MLT",
          "MNE",
          "MNG",
          "MUS",
          "MUS",
          "MYS",
          "NIC",
          "NLD",
          "OMN",
          "PAN",
          "PER",
          "PHL",
          "POL",
          "PRI",
          "PRT",
          "PRY",
          "PSE",
          "QAT",
          "ROU",
          "RUS",
          "SGP",
          "SLB",
          "SLV",
          "SRB",
          "SVK",
          "SVN",
          "SWE",
          "SYC",
          "TCA",
          "THA",
          "TJK",
          "TUN",
          "TUR",
          "UKR",
          "URY",
          "USA",
          "UZB",
          "VCT",
          "VIR",
          "ZAF"
         ],
         "name": "",
         "type": "choropleth",
         "z": [
          31,
          1,
          383,
          14106,
          245,
          19,
          17703,
          9047,
          4405,
          2630,
          272,
          2016,
          3,
          89967,
          33,
          14844,
          5165,
          8006,
          11507,
          1556,
          8585,
          172,
          7286,
          57691,
          13,
          4327,
          1374,
          5845,
          238,
          20312,
          1322,
          4024,
          10280,
          52610,
          1083,
          2265,
          29,
          4227,
          590,
          781,
          2606,
          6098,
          459,
          235,
          1937,
          12691,
          27,
          81627,
          12169,
          1165,
          57056,
          445,
          144,
          8,
          43,
          3373,
          398,
          2205,
          1207,
          6,
          38476,
          597,
          29,
          102,
          2288,
          1097,
          8,
          110,
          2251,
          9784,
          38,
          461,
          2221,
          9363,
          31517,
          342,
          3374,
          2923,
          2,
          266,
          6012,
          69872,
          1284,
          1,
          1577,
          6014,
          1721,
          3009,
          3007,
          0,
          3,
          18800,
          199,
          80,
          9565,
          21037,
          3219,
          251753,
          7030,
          11,
          19,
          2041
         ]
        }
       ],
       "layout": {
        "coloraxis": {
         "colorbar": {
          "title": {
           "text": "Deaths"
          }
         },
         "colorscale": [
          [
           0,
           "royalblue"
          ],
          [
           1,
           "orange"
          ]
         ]
        },
        "geo": {
         "center": {},
         "domain": {
          "x": [
           0,
           1
          ],
          "y": [
           0,
           1
          ]
         },
         "projection": {
          "type": "natural earth"
         }
        },
        "legend": {
         "tracegroupgap": 0
        },
        "template": {
         "data": {
          "bar": [
           {
            "error_x": {
             "color": "#2a3f5f"
            },
            "error_y": {
             "color": "#2a3f5f"
            },
            "marker": {
             "line": {
              "color": "#E5ECF6",
              "width": 0.5
             },
             "pattern": {
              "fillmode": "overlay",
              "size": 10,
              "solidity": 0.2
             }
            },
            "type": "bar"
           }
          ],
          "barpolar": [
           {
            "marker": {
             "line": {
              "color": "#E5ECF6",
              "width": 0.5
             },
             "pattern": {
              "fillmode": "overlay",
              "size": 10,
              "solidity": 0.2
             }
            },
            "type": "barpolar"
           }
          ],
          "carpet": [
           {
            "aaxis": {
             "endlinecolor": "#2a3f5f",
             "gridcolor": "white",
             "linecolor": "white",
             "minorgridcolor": "white",
             "startlinecolor": "#2a3f5f"
            },
            "baxis": {
             "endlinecolor": "#2a3f5f",
             "gridcolor": "white",
             "linecolor": "white",
             "minorgridcolor": "white",
             "startlinecolor": "#2a3f5f"
            },
            "type": "carpet"
           }
          ],
          "choropleth": [
           {
            "colorbar": {
             "outlinewidth": 0,
             "ticks": ""
            },
            "type": "choropleth"
           }
          ],
          "contour": [
           {
            "colorbar": {
             "outlinewidth": 0,
             "ticks": ""
            },
            "colorscale": [
             [
              0,
              "#0d0887"
             ],
             [
              0.1111111111111111,
              "#46039f"
             ],
             [
              0.2222222222222222,
              "#7201a8"
             ],
             [
              0.3333333333333333,
              "#9c179e"
             ],
             [
              0.4444444444444444,
              "#bd3786"
             ],
             [
              0.5555555555555556,
              "#d8576b"
             ],
             [
              0.6666666666666666,
              "#ed7953"
             ],
             [
              0.7777777777777778,
              "#fb9f3a"
             ],
             [
              0.8888888888888888,
              "#fdca26"
             ],
             [
              1,
              "#f0f921"
             ]
            ],
            "type": "contour"
           }
          ],
          "contourcarpet": [
           {
            "colorbar": {
             "outlinewidth": 0,
             "ticks": ""
            },
            "type": "contourcarpet"
           }
          ],
          "heatmap": [
           {
            "colorbar": {
             "outlinewidth": 0,
             "ticks": ""
            },
            "colorscale": [
             [
              0,
              "#0d0887"
             ],
             [
              0.1111111111111111,
              "#46039f"
             ],
             [
              0.2222222222222222,
              "#7201a8"
             ],
             [
              0.3333333333333333,
              "#9c179e"
             ],
             [
              0.4444444444444444,
              "#bd3786"
             ],
             [
              0.5555555555555556,
              "#d8576b"
             ],
             [
              0.6666666666666666,
              "#ed7953"
             ],
             [
              0.7777777777777778,
              "#fb9f3a"
             ],
             [
              0.8888888888888888,
              "#fdca26"
             ],
             [
              1,
              "#f0f921"
             ]
            ],
            "type": "heatmap"
           }
          ],
          "heatmapgl": [
           {
            "colorbar": {
             "outlinewidth": 0,
             "ticks": ""
            },
            "colorscale": [
             [
              0,
              "#0d0887"
             ],
             [
              0.1111111111111111,
              "#46039f"
             ],
             [
              0.2222222222222222,
              "#7201a8"
             ],
             [
              0.3333333333333333,
              "#9c179e"
             ],
             [
              0.4444444444444444,
              "#bd3786"
             ],
             [
              0.5555555555555556,
              "#d8576b"
             ],
             [
              0.6666666666666666,
              "#ed7953"
             ],
             [
              0.7777777777777778,
              "#fb9f3a"
             ],
             [
              0.8888888888888888,
              "#fdca26"
             ],
             [
              1,
              "#f0f921"
             ]
            ],
            "type": "heatmapgl"
           }
          ],
          "histogram": [
           {
            "marker": {
             "pattern": {
              "fillmode": "overlay",
              "size": 10,
              "solidity": 0.2
             }
            },
            "type": "histogram"
           }
          ],
          "histogram2d": [
           {
            "colorbar": {
             "outlinewidth": 0,
             "ticks": ""
            },
            "colorscale": [
             [
              0,
              "#0d0887"
             ],
             [
              0.1111111111111111,
              "#46039f"
             ],
             [
              0.2222222222222222,
              "#7201a8"
             ],
             [
              0.3333333333333333,
              "#9c179e"
             ],
             [
              0.4444444444444444,
              "#bd3786"
             ],
             [
              0.5555555555555556,
              "#d8576b"
             ],
             [
              0.6666666666666666,
              "#ed7953"
             ],
             [
              0.7777777777777778,
              "#fb9f3a"
             ],
             [
              0.8888888888888888,
              "#fdca26"
             ],
             [
              1,
              "#f0f921"
             ]
            ],
            "type": "histogram2d"
           }
          ],
          "histogram2dcontour": [
           {
            "colorbar": {
             "outlinewidth": 0,
             "ticks": ""
            },
            "colorscale": [
             [
              0,
              "#0d0887"
             ],
             [
              0.1111111111111111,
              "#46039f"
             ],
             [
              0.2222222222222222,
              "#7201a8"
             ],
             [
              0.3333333333333333,
              "#9c179e"
             ],
             [
              0.4444444444444444,
              "#bd3786"
             ],
             [
              0.5555555555555556,
              "#d8576b"
             ],
             [
              0.6666666666666666,
              "#ed7953"
             ],
             [
              0.7777777777777778,
              "#fb9f3a"
             ],
             [
              0.8888888888888888,
              "#fdca26"
             ],
             [
              1,
              "#f0f921"
             ]
            ],
            "type": "histogram2dcontour"
           }
          ],
          "mesh3d": [
           {
            "colorbar": {
             "outlinewidth": 0,
             "ticks": ""
            },
            "type": "mesh3d"
           }
          ],
          "parcoords": [
           {
            "line": {
             "colorbar": {
              "outlinewidth": 0,
              "ticks": ""
             }
            },
            "type": "parcoords"
           }
          ],
          "pie": [
           {
            "automargin": true,
            "type": "pie"
           }
          ],
          "scatter": [
           {
            "fillpattern": {
             "fillmode": "overlay",
             "size": 10,
             "solidity": 0.2
            },
            "type": "scatter"
           }
          ],
          "scatter3d": [
           {
            "line": {
             "colorbar": {
              "outlinewidth": 0,
              "ticks": ""
             }
            },
            "marker": {
             "colorbar": {
              "outlinewidth": 0,
              "ticks": ""
             }
            },
            "type": "scatter3d"
           }
          ],
          "scattercarpet": [
           {
            "marker": {
             "colorbar": {
              "outlinewidth": 0,
              "ticks": ""
             }
            },
            "type": "scattercarpet"
           }
          ],
          "scattergeo": [
           {
            "marker": {
             "colorbar": {
              "outlinewidth": 0,
              "ticks": ""
             }
            },
            "type": "scattergeo"
           }
          ],
          "scattergl": [
           {
            "marker": {
             "colorbar": {
              "outlinewidth": 0,
              "ticks": ""
             }
            },
            "type": "scattergl"
           }
          ],
          "scattermapbox": [
           {
            "marker": {
             "colorbar": {
              "outlinewidth": 0,
              "ticks": ""
             }
            },
            "type": "scattermapbox"
           }
          ],
          "scatterpolar": [
           {
            "marker": {
             "colorbar": {
              "outlinewidth": 0,
              "ticks": ""
             }
            },
            "type": "scatterpolar"
           }
          ],
          "scatterpolargl": [
           {
            "marker": {
             "colorbar": {
              "outlinewidth": 0,
              "ticks": ""
             }
            },
            "type": "scatterpolargl"
           }
          ],
          "scatterternary": [
           {
            "marker": {
             "colorbar": {
              "outlinewidth": 0,
              "ticks": ""
             }
            },
            "type": "scatterternary"
           }
          ],
          "surface": [
           {
            "colorbar": {
             "outlinewidth": 0,
             "ticks": ""
            },
            "colorscale": [
             [
              0,
              "#0d0887"
             ],
             [
              0.1111111111111111,
              "#46039f"
             ],
             [
              0.2222222222222222,
              "#7201a8"
             ],
             [
              0.3333333333333333,
              "#9c179e"
             ],
             [
              0.4444444444444444,
              "#bd3786"
             ],
             [
              0.5555555555555556,
              "#d8576b"
             ],
             [
              0.6666666666666666,
              "#ed7953"
             ],
             [
              0.7777777777777778,
              "#fb9f3a"
             ],
             [
              0.8888888888888888,
              "#fdca26"
             ],
             [
              1,
              "#f0f921"
             ]
            ],
            "type": "surface"
           }
          ],
          "table": [
           {
            "cells": {
             "fill": {
              "color": "#EBF0F8"
             },
             "line": {
              "color": "white"
             }
            },
            "header": {
             "fill": {
              "color": "#C8D4E3"
             },
             "line": {
              "color": "white"
             }
            },
            "type": "table"
           }
          ]
         },
         "layout": {
          "annotationdefaults": {
           "arrowcolor": "#2a3f5f",
           "arrowhead": 0,
           "arrowwidth": 1
          },
          "autotypenumbers": "strict",
          "coloraxis": {
           "colorbar": {
            "outlinewidth": 0,
            "ticks": ""
           }
          },
          "colorscale": {
           "diverging": [
            [
             0,
             "#8e0152"
            ],
            [
             0.1,
             "#c51b7d"
            ],
            [
             0.2,
             "#de77ae"
            ],
            [
             0.3,
             "#f1b6da"
            ],
            [
             0.4,
             "#fde0ef"
            ],
            [
             0.5,
             "#f7f7f7"
            ],
            [
             0.6,
             "#e6f5d0"
            ],
            [
             0.7,
             "#b8e186"
            ],
            [
             0.8,
             "#7fbc41"
            ],
            [
             0.9,
             "#4d9221"
            ],
            [
             1,
             "#276419"
            ]
           ],
           "sequential": [
            [
             0,
             "#0d0887"
            ],
            [
             0.1111111111111111,
             "#46039f"
            ],
            [
             0.2222222222222222,
             "#7201a8"
            ],
            [
             0.3333333333333333,
             "#9c179e"
            ],
            [
             0.4444444444444444,
             "#bd3786"
            ],
            [
             0.5555555555555556,
             "#d8576b"
            ],
            [
             0.6666666666666666,
             "#ed7953"
            ],
            [
             0.7777777777777778,
             "#fb9f3a"
            ],
            [
             0.8888888888888888,
             "#fdca26"
            ],
            [
             1,
             "#f0f921"
            ]
           ],
           "sequentialminus": [
            [
             0,
             "#0d0887"
            ],
            [
             0.1111111111111111,
             "#46039f"
            ],
            [
             0.2222222222222222,
             "#7201a8"
            ],
            [
             0.3333333333333333,
             "#9c179e"
            ],
            [
             0.4444444444444444,
             "#bd3786"
            ],
            [
             0.5555555555555556,
             "#d8576b"
            ],
            [
             0.6666666666666666,
             "#ed7953"
            ],
            [
             0.7777777777777778,
             "#fb9f3a"
            ],
            [
             0.8888888888888888,
             "#fdca26"
            ],
            [
             1,
             "#f0f921"
            ]
           ]
          },
          "colorway": [
           "#636efa",
           "#EF553B",
           "#00cc96",
           "#ab63fa",
           "#FFA15A",
           "#19d3f3",
           "#FF6692",
           "#B6E880",
           "#FF97FF",
           "#FECB52"
          ],
          "font": {
           "color": "#2a3f5f"
          },
          "geo": {
           "bgcolor": "white",
           "lakecolor": "white",
           "landcolor": "#E5ECF6",
           "showlakes": true,
           "showland": true,
           "subunitcolor": "white"
          },
          "hoverlabel": {
           "align": "left"
          },
          "hovermode": "closest",
          "mapbox": {
           "style": "light"
          },
          "paper_bgcolor": "white",
          "plot_bgcolor": "#E5ECF6",
          "polar": {
           "angularaxis": {
            "gridcolor": "white",
            "linecolor": "white",
            "ticks": ""
           },
           "bgcolor": "#E5ECF6",
           "radialaxis": {
            "gridcolor": "white",
            "linecolor": "white",
            "ticks": ""
           }
          },
          "scene": {
           "xaxis": {
            "backgroundcolor": "#E5ECF6",
            "gridcolor": "white",
            "gridwidth": 2,
            "linecolor": "white",
            "showbackground": true,
            "ticks": "",
            "zerolinecolor": "white"
           },
           "yaxis": {
            "backgroundcolor": "#E5ECF6",
            "gridcolor": "white",
            "gridwidth": 2,
            "linecolor": "white",
            "showbackground": true,
            "ticks": "",
            "zerolinecolor": "white"
           },
           "zaxis": {
            "backgroundcolor": "#E5ECF6",
            "gridcolor": "white",
            "gridwidth": 2,
            "linecolor": "white",
            "showbackground": true,
            "ticks": "",
            "zerolinecolor": "white"
           }
          },
          "shapedefaults": {
           "line": {
            "color": "#2a3f5f"
           }
          },
          "ternary": {
           "aaxis": {
            "gridcolor": "white",
            "linecolor": "white",
            "ticks": ""
           },
           "baxis": {
            "gridcolor": "white",
            "linecolor": "white",
            "ticks": ""
           },
           "bgcolor": "#E5ECF6",
           "caxis": {
            "gridcolor": "white",
            "linecolor": "white",
            "ticks": ""
           }
          },
          "title": {
           "x": 0.05
          },
          "xaxis": {
           "automargin": true,
           "gridcolor": "white",
           "linecolor": "white",
           "ticks": "",
           "title": {
            "standoff": 15
           },
           "zerolinecolor": "white",
           "zerolinewidth": 2
          },
          "yaxis": {
           "automargin": true,
           "gridcolor": "white",
           "linecolor": "white",
           "ticks": "",
           "title": {
            "standoff": 15
           },
           "zerolinecolor": "white",
           "zerolinewidth": 2
          }
         }
        },
        "title": {
         "text": "Worldwide Deaths by Country (ISO Code)"
        }
       }
      },
      "text/html": [
       "<div>                            <div id=\"0bdcf2f8-a7bc-4e0c-9865-de530de6b27f\" class=\"plotly-graph-div\" style=\"height:525px; width:100%;\"></div>            <script type=\"text/javascript\">                require([\"plotly\"], function(Plotly) {                    window.PLOTLYENV=window.PLOTLYENV || {};                                    if (document.getElementById(\"0bdcf2f8-a7bc-4e0c-9865-de530de6b27f\")) {                    Plotly.newPlot(                        \"0bdcf2f8-a7bc-4e0c-9865-de530de6b27f\",                        [{\"coloraxis\":\"coloraxis\",\"geo\":\"geo\",\"hovertemplate\":\"ISO_Code=%{location}<br>Deaths=%{z}<extra></extra>\",\"locations\":[\"ABW\",\"AIA\",\"ARE\",\"ARG\",\"ARM\",\"ATG\",\"AUS\",\"AUT\",\"BEL\",\"BGR\",\"BIH\",\"BLR\",\"BMU\",\"BRA\",\"BRN\",\"CAN\",\"CHE\",\"CHL\",\"COL\",\"CRI\",\"CUB\",\"CYP\",\"CZE\",\"DEU\",\"DMA\",\"DNK\",\"DOM\",\"ECU\",\"EGY\",\"ESP\",\"EST\",\"FIN\",\"FRA\",\"GBR\",\"GEO\",\"GRC\",\"GRD\",\"GTM\",\"GUY\",\"HKG\",\"HRV\",\"HUN\",\"IRL\",\"ISL\",\"ISR\",\"ITA\",\"JOR\",\"JPN\",\"KAZ\",\"KGZ\",\"KOR\",\"KWT\",\"LBN\",\"LBY\",\"LCA\",\"LTU\",\"LUX\",\"LVA\",\"MDA\",\"MDV\",\"MEX\",\"MKD\",\"MLT\",\"MNE\",\"MNG\",\"MUS\",\"MUS\",\"MYS\",\"NIC\",\"NLD\",\"OMN\",\"PAN\",\"PER\",\"PHL\",\"POL\",\"PRI\",\"PRT\",\"PRY\",\"PSE\",\"QAT\",\"ROU\",\"RUS\",\"SGP\",\"SLB\",\"SLV\",\"SRB\",\"SVK\",\"SVN\",\"SWE\",\"SYC\",\"TCA\",\"THA\",\"TJK\",\"TUN\",\"TUR\",\"UKR\",\"URY\",\"USA\",\"UZB\",\"VCT\",\"VIR\",\"ZAF\"],\"name\":\"\",\"z\":[31,1,383,14106,245,19,17703,9047,4405,2630,272,2016,3,89967,33,14844,5165,8006,11507,1556,8585,172,7286,57691,13,4327,1374,5845,238,20312,1322,4024,10280,52610,1083,2265,29,4227,590,781,2606,6098,459,235,1937,12691,27,81627,12169,1165,57056,445,144,8,43,3373,398,2205,1207,6,38476,597,29,102,2288,1097,8,110,2251,9784,38,461,2221,9363,31517,342,3374,2923,2,266,6012,69872,1284,1,1577,6014,1721,3009,3007,0,3,18800,199,80,9565,21037,3219,251753,7030,11,19,2041],\"type\":\"choropleth\"}],                        {\"template\":{\"data\":{\"histogram2dcontour\":[{\"type\":\"histogram2dcontour\",\"colorbar\":{\"outlinewidth\":0,\"ticks\":\"\"},\"colorscale\":[[0.0,\"#0d0887\"],[0.1111111111111111,\"#46039f\"],[0.2222222222222222,\"#7201a8\"],[0.3333333333333333,\"#9c179e\"],[0.4444444444444444,\"#bd3786\"],[0.5555555555555556,\"#d8576b\"],[0.6666666666666666,\"#ed7953\"],[0.7777777777777778,\"#fb9f3a\"],[0.8888888888888888,\"#fdca26\"],[1.0,\"#f0f921\"]]}],\"choropleth\":[{\"type\":\"choropleth\",\"colorbar\":{\"outlinewidth\":0,\"ticks\":\"\"}}],\"histogram2d\":[{\"type\":\"histogram2d\",\"colorbar\":{\"outlinewidth\":0,\"ticks\":\"\"},\"colorscale\":[[0.0,\"#0d0887\"],[0.1111111111111111,\"#46039f\"],[0.2222222222222222,\"#7201a8\"],[0.3333333333333333,\"#9c179e\"],[0.4444444444444444,\"#bd3786\"],[0.5555555555555556,\"#d8576b\"],[0.6666666666666666,\"#ed7953\"],[0.7777777777777778,\"#fb9f3a\"],[0.8888888888888888,\"#fdca26\"],[1.0,\"#f0f921\"]]}],\"heatmap\":[{\"type\":\"heatmap\",\"colorbar\":{\"outlinewidth\":0,\"ticks\":\"\"},\"colorscale\":[[0.0,\"#0d0887\"],[0.1111111111111111,\"#46039f\"],[0.2222222222222222,\"#7201a8\"],[0.3333333333333333,\"#9c179e\"],[0.4444444444444444,\"#bd3786\"],[0.5555555555555556,\"#d8576b\"],[0.6666666666666666,\"#ed7953\"],[0.7777777777777778,\"#fb9f3a\"],[0.8888888888888888,\"#fdca26\"],[1.0,\"#f0f921\"]]}],\"heatmapgl\":[{\"type\":\"heatmapgl\",\"colorbar\":{\"outlinewidth\":0,\"ticks\":\"\"},\"colorscale\":[[0.0,\"#0d0887\"],[0.1111111111111111,\"#46039f\"],[0.2222222222222222,\"#7201a8\"],[0.3333333333333333,\"#9c179e\"],[0.4444444444444444,\"#bd3786\"],[0.5555555555555556,\"#d8576b\"],[0.6666666666666666,\"#ed7953\"],[0.7777777777777778,\"#fb9f3a\"],[0.8888888888888888,\"#fdca26\"],[1.0,\"#f0f921\"]]}],\"contourcarpet\":[{\"type\":\"contourcarpet\",\"colorbar\":{\"outlinewidth\":0,\"ticks\":\"\"}}],\"contour\":[{\"type\":\"contour\",\"colorbar\":{\"outlinewidth\":0,\"ticks\":\"\"},\"colorscale\":[[0.0,\"#0d0887\"],[0.1111111111111111,\"#46039f\"],[0.2222222222222222,\"#7201a8\"],[0.3333333333333333,\"#9c179e\"],[0.4444444444444444,\"#bd3786\"],[0.5555555555555556,\"#d8576b\"],[0.6666666666666666,\"#ed7953\"],[0.7777777777777778,\"#fb9f3a\"],[0.8888888888888888,\"#fdca26\"],[1.0,\"#f0f921\"]]}],\"surface\":[{\"type\":\"surface\",\"colorbar\":{\"outlinewidth\":0,\"ticks\":\"\"},\"colorscale\":[[0.0,\"#0d0887\"],[0.1111111111111111,\"#46039f\"],[0.2222222222222222,\"#7201a8\"],[0.3333333333333333,\"#9c179e\"],[0.4444444444444444,\"#bd3786\"],[0.5555555555555556,\"#d8576b\"],[0.6666666666666666,\"#ed7953\"],[0.7777777777777778,\"#fb9f3a\"],[0.8888888888888888,\"#fdca26\"],[1.0,\"#f0f921\"]]}],\"mesh3d\":[{\"type\":\"mesh3d\",\"colorbar\":{\"outlinewidth\":0,\"ticks\":\"\"}}],\"scatter\":[{\"fillpattern\":{\"fillmode\":\"overlay\",\"size\":10,\"solidity\":0.2},\"type\":\"scatter\"}],\"parcoords\":[{\"type\":\"parcoords\",\"line\":{\"colorbar\":{\"outlinewidth\":0,\"ticks\":\"\"}}}],\"scatterpolargl\":[{\"type\":\"scatterpolargl\",\"marker\":{\"colorbar\":{\"outlinewidth\":0,\"ticks\":\"\"}}}],\"bar\":[{\"error_x\":{\"color\":\"#2a3f5f\"},\"error_y\":{\"color\":\"#2a3f5f\"},\"marker\":{\"line\":{\"color\":\"#E5ECF6\",\"width\":0.5},\"pattern\":{\"fillmode\":\"overlay\",\"size\":10,\"solidity\":0.2}},\"type\":\"bar\"}],\"scattergeo\":[{\"type\":\"scattergeo\",\"marker\":{\"colorbar\":{\"outlinewidth\":0,\"ticks\":\"\"}}}],\"scatterpolar\":[{\"type\":\"scatterpolar\",\"marker\":{\"colorbar\":{\"outlinewidth\":0,\"ticks\":\"\"}}}],\"histogram\":[{\"marker\":{\"pattern\":{\"fillmode\":\"overlay\",\"size\":10,\"solidity\":0.2}},\"type\":\"histogram\"}],\"scattergl\":[{\"type\":\"scattergl\",\"marker\":{\"colorbar\":{\"outlinewidth\":0,\"ticks\":\"\"}}}],\"scatter3d\":[{\"type\":\"scatter3d\",\"line\":{\"colorbar\":{\"outlinewidth\":0,\"ticks\":\"\"}},\"marker\":{\"colorbar\":{\"outlinewidth\":0,\"ticks\":\"\"}}}],\"scattermapbox\":[{\"type\":\"scattermapbox\",\"marker\":{\"colorbar\":{\"outlinewidth\":0,\"ticks\":\"\"}}}],\"scatterternary\":[{\"type\":\"scatterternary\",\"marker\":{\"colorbar\":{\"outlinewidth\":0,\"ticks\":\"\"}}}],\"scattercarpet\":[{\"type\":\"scattercarpet\",\"marker\":{\"colorbar\":{\"outlinewidth\":0,\"ticks\":\"\"}}}],\"carpet\":[{\"aaxis\":{\"endlinecolor\":\"#2a3f5f\",\"gridcolor\":\"white\",\"linecolor\":\"white\",\"minorgridcolor\":\"white\",\"startlinecolor\":\"#2a3f5f\"},\"baxis\":{\"endlinecolor\":\"#2a3f5f\",\"gridcolor\":\"white\",\"linecolor\":\"white\",\"minorgridcolor\":\"white\",\"startlinecolor\":\"#2a3f5f\"},\"type\":\"carpet\"}],\"table\":[{\"cells\":{\"fill\":{\"color\":\"#EBF0F8\"},\"line\":{\"color\":\"white\"}},\"header\":{\"fill\":{\"color\":\"#C8D4E3\"},\"line\":{\"color\":\"white\"}},\"type\":\"table\"}],\"barpolar\":[{\"marker\":{\"line\":{\"color\":\"#E5ECF6\",\"width\":0.5},\"pattern\":{\"fillmode\":\"overlay\",\"size\":10,\"solidity\":0.2}},\"type\":\"barpolar\"}],\"pie\":[{\"automargin\":true,\"type\":\"pie\"}]},\"layout\":{\"autotypenumbers\":\"strict\",\"colorway\":[\"#636efa\",\"#EF553B\",\"#00cc96\",\"#ab63fa\",\"#FFA15A\",\"#19d3f3\",\"#FF6692\",\"#B6E880\",\"#FF97FF\",\"#FECB52\"],\"font\":{\"color\":\"#2a3f5f\"},\"hovermode\":\"closest\",\"hoverlabel\":{\"align\":\"left\"},\"paper_bgcolor\":\"white\",\"plot_bgcolor\":\"#E5ECF6\",\"polar\":{\"bgcolor\":\"#E5ECF6\",\"angularaxis\":{\"gridcolor\":\"white\",\"linecolor\":\"white\",\"ticks\":\"\"},\"radialaxis\":{\"gridcolor\":\"white\",\"linecolor\":\"white\",\"ticks\":\"\"}},\"ternary\":{\"bgcolor\":\"#E5ECF6\",\"aaxis\":{\"gridcolor\":\"white\",\"linecolor\":\"white\",\"ticks\":\"\"},\"baxis\":{\"gridcolor\":\"white\",\"linecolor\":\"white\",\"ticks\":\"\"},\"caxis\":{\"gridcolor\":\"white\",\"linecolor\":\"white\",\"ticks\":\"\"}},\"coloraxis\":{\"colorbar\":{\"outlinewidth\":0,\"ticks\":\"\"}},\"colorscale\":{\"sequential\":[[0.0,\"#0d0887\"],[0.1111111111111111,\"#46039f\"],[0.2222222222222222,\"#7201a8\"],[0.3333333333333333,\"#9c179e\"],[0.4444444444444444,\"#bd3786\"],[0.5555555555555556,\"#d8576b\"],[0.6666666666666666,\"#ed7953\"],[0.7777777777777778,\"#fb9f3a\"],[0.8888888888888888,\"#fdca26\"],[1.0,\"#f0f921\"]],\"sequentialminus\":[[0.0,\"#0d0887\"],[0.1111111111111111,\"#46039f\"],[0.2222222222222222,\"#7201a8\"],[0.3333333333333333,\"#9c179e\"],[0.4444444444444444,\"#bd3786\"],[0.5555555555555556,\"#d8576b\"],[0.6666666666666666,\"#ed7953\"],[0.7777777777777778,\"#fb9f3a\"],[0.8888888888888888,\"#fdca26\"],[1.0,\"#f0f921\"]],\"diverging\":[[0,\"#8e0152\"],[0.1,\"#c51b7d\"],[0.2,\"#de77ae\"],[0.3,\"#f1b6da\"],[0.4,\"#fde0ef\"],[0.5,\"#f7f7f7\"],[0.6,\"#e6f5d0\"],[0.7,\"#b8e186\"],[0.8,\"#7fbc41\"],[0.9,\"#4d9221\"],[1,\"#276419\"]]},\"xaxis\":{\"gridcolor\":\"white\",\"linecolor\":\"white\",\"ticks\":\"\",\"title\":{\"standoff\":15},\"zerolinecolor\":\"white\",\"automargin\":true,\"zerolinewidth\":2},\"yaxis\":{\"gridcolor\":\"white\",\"linecolor\":\"white\",\"ticks\":\"\",\"title\":{\"standoff\":15},\"zerolinecolor\":\"white\",\"automargin\":true,\"zerolinewidth\":2},\"scene\":{\"xaxis\":{\"backgroundcolor\":\"#E5ECF6\",\"gridcolor\":\"white\",\"linecolor\":\"white\",\"showbackground\":true,\"ticks\":\"\",\"zerolinecolor\":\"white\",\"gridwidth\":2},\"yaxis\":{\"backgroundcolor\":\"#E5ECF6\",\"gridcolor\":\"white\",\"linecolor\":\"white\",\"showbackground\":true,\"ticks\":\"\",\"zerolinecolor\":\"white\",\"gridwidth\":2},\"zaxis\":{\"backgroundcolor\":\"#E5ECF6\",\"gridcolor\":\"white\",\"linecolor\":\"white\",\"showbackground\":true,\"ticks\":\"\",\"zerolinecolor\":\"white\",\"gridwidth\":2}},\"shapedefaults\":{\"line\":{\"color\":\"#2a3f5f\"}},\"annotationdefaults\":{\"arrowcolor\":\"#2a3f5f\",\"arrowhead\":0,\"arrowwidth\":1},\"geo\":{\"bgcolor\":\"white\",\"landcolor\":\"#E5ECF6\",\"subunitcolor\":\"white\",\"showland\":true,\"showlakes\":true,\"lakecolor\":\"white\"},\"title\":{\"x\":0.05},\"mapbox\":{\"style\":\"light\"}}},\"geo\":{\"domain\":{\"x\":[0.0,1.0],\"y\":[0.0,1.0]},\"projection\":{\"type\":\"natural earth\"},\"center\":{}},\"coloraxis\":{\"colorbar\":{\"title\":{\"text\":\"Deaths\"}},\"colorscale\":[[0.0,\"royalblue\"],[1.0,\"orange\"]]},\"legend\":{\"tracegroupgap\":0},\"title\":{\"text\":\"Worldwide Deaths by Country (ISO Code)\"}},                        {\"responsive\": true}                    ).then(function(){\n",
       "                            \n",
       "var gd = document.getElementById('0bdcf2f8-a7bc-4e0c-9865-de530de6b27f');\n",
       "var x = new MutationObserver(function (mutations, observer) {{\n",
       "        var display = window.getComputedStyle(gd).display;\n",
       "        if (!display || display === 'none') {{\n",
       "            console.log([gd, 'removed!']);\n",
       "            Plotly.purge(gd);\n",
       "            observer.disconnect();\n",
       "        }}\n",
       "}});\n",
       "\n",
       "// Listen for the removal of the full notebook cells\n",
       "var notebookContainer = gd.closest('#notebook-container');\n",
       "if (notebookContainer) {{\n",
       "    x.observe(notebookContainer, {childList: true});\n",
       "}}\n",
       "\n",
       "// Listen for the clearing of the current output cell\n",
       "var outputEl = gd.closest('.output');\n",
       "if (outputEl) {{\n",
       "    x.observe(outputEl, {childList: true});\n",
       "}}\n",
       "\n",
       "                        })                };                });            </script>        </div>"
      ]
     },
     "metadata": {},
     "output_type": "display_data"
    }
   ],
   "source": [
    "import plotly.express as px\n",
    "\n",
    "geo_data = df[['ISO_Code', 'Country', 'Deaths']]\n",
    "geo_data = geo_data.groupby(['ISO_Code', 'Country'])['Deaths'].sum().reset_index()\n",
    "\n",
    "fig = px.choropleth(\n",
    "    geo_data,\n",
    "    locations = \"ISO_Code\",\n",
    "    color = \"Deaths\",\n",
    "    title = \"Worldwide Deaths by Country (ISO Code)\",\n",
    "    color_continuous_scale = [\"royalblue\", 'orange'],\n",
    "    projection = \"natural earth\"\n",
    ")\n",
    "\n",
    "fig.show()"
   ]
  },
  {
   "cell_type": "markdown",
   "id": "ef155274",
   "metadata": {},
   "source": [
    "![Self-Harm and Substance Abuse Deaths](https://github.com/Reece-Wu/PythonCode/blob/main/images/Self-Harm%20and%20Substance%20Abuse%20Deaths.png?raw=true)"
   ]
  },
  {
   "cell_type": "markdown",
   "id": "7d7f5267",
   "metadata": {},
   "source": [
    "# Machine Learning"
   ]
  },
  {
   "cell_type": "code",
   "execution_count": 103,
   "id": "e91770a4",
   "metadata": {},
   "outputs": [],
   "source": [
    "# one-hot encoding\n",
    "\n",
    "def convert_dummy(df, feature):\n",
    "    pos = pd.get_dummies(df[feature], prefix = feature)\n",
    "    mode = df[feature].value_counts().index[0]\n",
    "    biggest = feature + '_' + mode\n",
    "    pos.drop([biggest], axis = 1, inplace = True)\n",
    "    df.drop([feature], axis = 1, inplace = True)\n",
    "    df = df.join(pos)\n",
    "    return df"
   ]
  },
  {
   "cell_type": "code",
   "execution_count": 104,
   "id": "df8055a7",
   "metadata": {},
   "outputs": [],
   "source": [
    "# Evaluate indicators\n",
    "\n",
    "from sklearn.metrics import mean_squared_error, mean_absolute_error, r2_score\n",
    "\n",
    "def get_indicators(name, y_test, y_pred):\n",
    "    mse = mean_squared_error(y_test, y_pred)\n",
    "    rmse = mean_squared_error(y_test, y_pred, squared = False)\n",
    "    mae = mean_absolute_error(y_test, y_pred)\n",
    "    r_squared = r2_score(y_test, y_pred)\n",
    "    \n",
    "    results = [name, mse, rmse, mae, r_squared]\n",
    "    \n",
    "    return results\n",
    "\n",
    "EItable = pd.DataFrame(columns = ['Model', 'MSE', 'RMSE', 'MAE', 'R-squared'])"
   ]
  },
  {
   "cell_type": "code",
   "execution_count": 105,
   "id": "704aeec8",
   "metadata": {},
   "outputs": [
    {
     "data": {
      "text/html": [
       "<div>\n",
       "<style scoped>\n",
       "    .dataframe tbody tr th:only-of-type {\n",
       "        vertical-align: middle;\n",
       "    }\n",
       "\n",
       "    .dataframe tbody tr th {\n",
       "        vertical-align: top;\n",
       "    }\n",
       "\n",
       "    .dataframe thead th {\n",
       "        text-align: right;\n",
       "    }\n",
       "</style>\n",
       "<table border=\"1\" class=\"dataframe\">\n",
       "  <thead>\n",
       "    <tr style=\"text-align: right;\">\n",
       "      <th></th>\n",
       "      <th>Cause</th>\n",
       "      <th>Age_Range</th>\n",
       "      <th>Sex</th>\n",
       "      <th>Deaths</th>\n",
       "      <th>Country</th>\n",
       "    </tr>\n",
       "  </thead>\n",
       "  <tbody>\n",
       "    <tr>\n",
       "      <th>0</th>\n",
       "      <td>self-harm</td>\n",
       "      <td>10-14</td>\n",
       "      <td>Female</td>\n",
       "      <td>16</td>\n",
       "      <td>United Kingdom</td>\n",
       "    </tr>\n",
       "    <tr>\n",
       "      <th>1</th>\n",
       "      <td>self-harm</td>\n",
       "      <td>10-14</td>\n",
       "      <td>Male</td>\n",
       "      <td>16</td>\n",
       "      <td>United Kingdom</td>\n",
       "    </tr>\n",
       "    <tr>\n",
       "      <th>2</th>\n",
       "      <td>self-harm</td>\n",
       "      <td>15-19</td>\n",
       "      <td>Female</td>\n",
       "      <td>104</td>\n",
       "      <td>United Kingdom</td>\n",
       "    </tr>\n",
       "    <tr>\n",
       "      <th>3</th>\n",
       "      <td>self-harm</td>\n",
       "      <td>15-19</td>\n",
       "      <td>Male</td>\n",
       "      <td>208</td>\n",
       "      <td>United Kingdom</td>\n",
       "    </tr>\n",
       "    <tr>\n",
       "      <th>4</th>\n",
       "      <td>self-harm</td>\n",
       "      <td>20-24</td>\n",
       "      <td>Female</td>\n",
       "      <td>136</td>\n",
       "      <td>United Kingdom</td>\n",
       "    </tr>\n",
       "  </tbody>\n",
       "</table>\n",
       "</div>"
      ],
      "text/plain": [
       "       Cause Age_Range     Sex  Deaths         Country\n",
       "0  self-harm     10-14  Female      16  United Kingdom\n",
       "1  self-harm     10-14    Male      16  United Kingdom\n",
       "2  self-harm     15-19  Female     104  United Kingdom\n",
       "3  self-harm     15-19    Male     208  United Kingdom\n",
       "4  self-harm     20-24  Female     136  United Kingdom"
      ]
     },
     "execution_count": 105,
     "metadata": {},
     "output_type": "execute_result"
    }
   ],
   "source": [
    "ml_df = df.drop(columns = ['Year', 'ISO_Code', 'Age_and_Sex_Population'])\n",
    "\n",
    "ml_df.head()"
   ]
  },
  {
   "cell_type": "code",
   "execution_count": 106,
   "id": "2fdfeb2c",
   "metadata": {},
   "outputs": [
    {
     "data": {
      "text/html": [
       "<div>\n",
       "<style scoped>\n",
       "    .dataframe tbody tr th:only-of-type {\n",
       "        vertical-align: middle;\n",
       "    }\n",
       "\n",
       "    .dataframe tbody tr th {\n",
       "        vertical-align: top;\n",
       "    }\n",
       "\n",
       "    .dataframe thead th {\n",
       "        text-align: right;\n",
       "    }\n",
       "</style>\n",
       "<table border=\"1\" class=\"dataframe\">\n",
       "  <thead>\n",
       "    <tr style=\"text-align: right;\">\n",
       "      <th></th>\n",
       "      <th>Age_Range</th>\n",
       "      <th>Sex</th>\n",
       "      <th>Deaths</th>\n",
       "      <th>Country</th>\n",
       "      <th>Cause_substance abuse</th>\n",
       "    </tr>\n",
       "  </thead>\n",
       "  <tbody>\n",
       "    <tr>\n",
       "      <th>0</th>\n",
       "      <td>10-14</td>\n",
       "      <td>Female</td>\n",
       "      <td>16</td>\n",
       "      <td>United Kingdom</td>\n",
       "      <td>0</td>\n",
       "    </tr>\n",
       "    <tr>\n",
       "      <th>1</th>\n",
       "      <td>10-14</td>\n",
       "      <td>Male</td>\n",
       "      <td>16</td>\n",
       "      <td>United Kingdom</td>\n",
       "      <td>0</td>\n",
       "    </tr>\n",
       "    <tr>\n",
       "      <th>2</th>\n",
       "      <td>15-19</td>\n",
       "      <td>Female</td>\n",
       "      <td>104</td>\n",
       "      <td>United Kingdom</td>\n",
       "      <td>0</td>\n",
       "    </tr>\n",
       "    <tr>\n",
       "      <th>3</th>\n",
       "      <td>15-19</td>\n",
       "      <td>Male</td>\n",
       "      <td>208</td>\n",
       "      <td>United Kingdom</td>\n",
       "      <td>0</td>\n",
       "    </tr>\n",
       "    <tr>\n",
       "      <th>4</th>\n",
       "      <td>20-24</td>\n",
       "      <td>Female</td>\n",
       "      <td>136</td>\n",
       "      <td>United Kingdom</td>\n",
       "      <td>0</td>\n",
       "    </tr>\n",
       "  </tbody>\n",
       "</table>\n",
       "</div>"
      ],
      "text/plain": [
       "  Age_Range     Sex  Deaths         Country  Cause_substance abuse\n",
       "0     10-14  Female      16  United Kingdom                      0\n",
       "1     10-14    Male      16  United Kingdom                      0\n",
       "2     15-19  Female     104  United Kingdom                      0\n",
       "3     15-19    Male     208  United Kingdom                      0\n",
       "4     20-24  Female     136  United Kingdom                      0"
      ]
     },
     "execution_count": 106,
     "metadata": {},
     "output_type": "execute_result"
    }
   ],
   "source": [
    "# Categorical Features: Cause\n",
    "\n",
    "ml_df = convert_dummy(ml_df, 'Cause')\n",
    "ml_df.head()"
   ]
  },
  {
   "cell_type": "code",
   "execution_count": 107,
   "id": "758d7786",
   "metadata": {},
   "outputs": [
    {
     "data": {
      "text/html": [
       "<div>\n",
       "<style scoped>\n",
       "    .dataframe tbody tr th:only-of-type {\n",
       "        vertical-align: middle;\n",
       "    }\n",
       "\n",
       "    .dataframe tbody tr th {\n",
       "        vertical-align: top;\n",
       "    }\n",
       "\n",
       "    .dataframe thead th {\n",
       "        text-align: right;\n",
       "    }\n",
       "</style>\n",
       "<table border=\"1\" class=\"dataframe\">\n",
       "  <thead>\n",
       "    <tr style=\"text-align: right;\">\n",
       "      <th></th>\n",
       "      <th>Sex</th>\n",
       "      <th>Deaths</th>\n",
       "      <th>Country</th>\n",
       "      <th>Cause_substance abuse</th>\n",
       "      <th>Age_Range_encoded</th>\n",
       "    </tr>\n",
       "  </thead>\n",
       "  <tbody>\n",
       "    <tr>\n",
       "      <th>0</th>\n",
       "      <td>Female</td>\n",
       "      <td>16</td>\n",
       "      <td>United Kingdom</td>\n",
       "      <td>0</td>\n",
       "      <td>2</td>\n",
       "    </tr>\n",
       "    <tr>\n",
       "      <th>1</th>\n",
       "      <td>Male</td>\n",
       "      <td>16</td>\n",
       "      <td>United Kingdom</td>\n",
       "      <td>0</td>\n",
       "      <td>2</td>\n",
       "    </tr>\n",
       "    <tr>\n",
       "      <th>2</th>\n",
       "      <td>Female</td>\n",
       "      <td>104</td>\n",
       "      <td>United Kingdom</td>\n",
       "      <td>0</td>\n",
       "      <td>3</td>\n",
       "    </tr>\n",
       "    <tr>\n",
       "      <th>3</th>\n",
       "      <td>Male</td>\n",
       "      <td>208</td>\n",
       "      <td>United Kingdom</td>\n",
       "      <td>0</td>\n",
       "      <td>3</td>\n",
       "    </tr>\n",
       "    <tr>\n",
       "      <th>4</th>\n",
       "      <td>Female</td>\n",
       "      <td>136</td>\n",
       "      <td>United Kingdom</td>\n",
       "      <td>0</td>\n",
       "      <td>4</td>\n",
       "    </tr>\n",
       "  </tbody>\n",
       "</table>\n",
       "</div>"
      ],
      "text/plain": [
       "      Sex  Deaths         Country  Cause_substance abuse  Age_Range_encoded\n",
       "0  Female      16  United Kingdom                      0                  2\n",
       "1    Male      16  United Kingdom                      0                  2\n",
       "2  Female     104  United Kingdom                      0                  3\n",
       "3    Male     208  United Kingdom                      0                  3\n",
       "4  Female     136  United Kingdom                      0                  4"
      ]
     },
     "execution_count": 107,
     "metadata": {},
     "output_type": "execute_result"
    }
   ],
   "source": [
    "# Categorical Features: Age_Range\n",
    "\n",
    "Age_Range_mapping = {\n",
    "    '1-4': 0,\n",
    "    '5-9': 1,\n",
    "    '10-14': 2,\n",
    "    '15-19': 3,\n",
    "    '20-24': 4,\n",
    "    '25-29': 5,\n",
    "    '30-34': 6,\n",
    "    '35-39': 7,\n",
    "    '40-44': 8,\n",
    "    '45-49': 9,\n",
    "    '50-54': 10,\n",
    "    '55-59': 11,\n",
    "    '60-64': 12,\n",
    "    '65-69': 13,\n",
    "    '70-74': 14,\n",
    "    '75-79': 15,\n",
    "    '80-84': 16,\n",
    "    '85-89': 17,\n",
    "    '90-94': 18,\n",
    "    '95+': 19\n",
    "}\n",
    "\n",
    "ml_df['Age_Range_encoded'] = df['Age_Range'].map(Age_Range_mapping)\n",
    "ml_df.drop(['Age_Range'], axis = 1, inplace = True)\n",
    "\n",
    "ml_df.head()"
   ]
  },
  {
   "cell_type": "code",
   "execution_count": 108,
   "id": "4d6e08f3",
   "metadata": {
    "scrolled": true
   },
   "outputs": [
    {
     "data": {
      "text/html": [
       "<div>\n",
       "<style scoped>\n",
       "    .dataframe tbody tr th:only-of-type {\n",
       "        vertical-align: middle;\n",
       "    }\n",
       "\n",
       "    .dataframe tbody tr th {\n",
       "        vertical-align: top;\n",
       "    }\n",
       "\n",
       "    .dataframe thead th {\n",
       "        text-align: right;\n",
       "    }\n",
       "</style>\n",
       "<table border=\"1\" class=\"dataframe\">\n",
       "  <thead>\n",
       "    <tr style=\"text-align: right;\">\n",
       "      <th></th>\n",
       "      <th>Deaths</th>\n",
       "      <th>Country</th>\n",
       "      <th>Cause_substance abuse</th>\n",
       "      <th>Age_Range_encoded</th>\n",
       "      <th>Sex_Female</th>\n",
       "      <th>Sex_Unspecified</th>\n",
       "    </tr>\n",
       "  </thead>\n",
       "  <tbody>\n",
       "    <tr>\n",
       "      <th>0</th>\n",
       "      <td>16</td>\n",
       "      <td>United Kingdom</td>\n",
       "      <td>0</td>\n",
       "      <td>2</td>\n",
       "      <td>1</td>\n",
       "      <td>0</td>\n",
       "    </tr>\n",
       "    <tr>\n",
       "      <th>1</th>\n",
       "      <td>16</td>\n",
       "      <td>United Kingdom</td>\n",
       "      <td>0</td>\n",
       "      <td>2</td>\n",
       "      <td>0</td>\n",
       "      <td>0</td>\n",
       "    </tr>\n",
       "    <tr>\n",
       "      <th>2</th>\n",
       "      <td>104</td>\n",
       "      <td>United Kingdom</td>\n",
       "      <td>0</td>\n",
       "      <td>3</td>\n",
       "      <td>1</td>\n",
       "      <td>0</td>\n",
       "    </tr>\n",
       "    <tr>\n",
       "      <th>3</th>\n",
       "      <td>208</td>\n",
       "      <td>United Kingdom</td>\n",
       "      <td>0</td>\n",
       "      <td>3</td>\n",
       "      <td>0</td>\n",
       "      <td>0</td>\n",
       "    </tr>\n",
       "    <tr>\n",
       "      <th>4</th>\n",
       "      <td>136</td>\n",
       "      <td>United Kingdom</td>\n",
       "      <td>0</td>\n",
       "      <td>4</td>\n",
       "      <td>1</td>\n",
       "      <td>0</td>\n",
       "    </tr>\n",
       "  </tbody>\n",
       "</table>\n",
       "</div>"
      ],
      "text/plain": [
       "   Deaths         Country  Cause_substance abuse  Age_Range_encoded  \\\n",
       "0      16  United Kingdom                      0                  2   \n",
       "1      16  United Kingdom                      0                  2   \n",
       "2     104  United Kingdom                      0                  3   \n",
       "3     208  United Kingdom                      0                  3   \n",
       "4     136  United Kingdom                      0                  4   \n",
       "\n",
       "   Sex_Female  Sex_Unspecified  \n",
       "0           1                0  \n",
       "1           0                0  \n",
       "2           1                0  \n",
       "3           0                0  \n",
       "4           1                0  "
      ]
     },
     "execution_count": 108,
     "metadata": {},
     "output_type": "execute_result"
    }
   ],
   "source": [
    "# Categorical Features: Sex\n",
    "\n",
    "ml_df = convert_dummy(ml_df, 'Sex')\n",
    "ml_df.head()"
   ]
  },
  {
   "cell_type": "code",
   "execution_count": 109,
   "id": "d536115d",
   "metadata": {},
   "outputs": [
    {
     "data": {
      "text/html": [
       "<div>\n",
       "<style scoped>\n",
       "    .dataframe tbody tr th:only-of-type {\n",
       "        vertical-align: middle;\n",
       "    }\n",
       "\n",
       "    .dataframe tbody tr th {\n",
       "        vertical-align: top;\n",
       "    }\n",
       "\n",
       "    .dataframe thead th {\n",
       "        text-align: right;\n",
       "    }\n",
       "</style>\n",
       "<table border=\"1\" class=\"dataframe\">\n",
       "  <thead>\n",
       "    <tr style=\"text-align: right;\">\n",
       "      <th></th>\n",
       "      <th>Deaths</th>\n",
       "      <th>Cause_substance abuse</th>\n",
       "      <th>Age_Range_encoded</th>\n",
       "      <th>Sex_Female</th>\n",
       "      <th>Sex_Unspecified</th>\n",
       "      <th>Country_Anguilla</th>\n",
       "      <th>Country_Antigua and Barbuda</th>\n",
       "      <th>Country_Argentina</th>\n",
       "      <th>Country_Armenia</th>\n",
       "      <th>Country_Aruba</th>\n",
       "      <th>...</th>\n",
       "      <th>Country_Tunisia</th>\n",
       "      <th>Country_Turkey</th>\n",
       "      <th>Country_Turks and Caicos Islands</th>\n",
       "      <th>Country_Ukraine</th>\n",
       "      <th>Country_United Arab Emirates</th>\n",
       "      <th>Country_United Kingdom</th>\n",
       "      <th>Country_United States of America</th>\n",
       "      <th>Country_Uruguay</th>\n",
       "      <th>Country_Uzbekistan</th>\n",
       "      <th>Country_Virgin Islands (USA)</th>\n",
       "    </tr>\n",
       "  </thead>\n",
       "  <tbody>\n",
       "    <tr>\n",
       "      <th>0</th>\n",
       "      <td>16</td>\n",
       "      <td>0</td>\n",
       "      <td>2</td>\n",
       "      <td>1</td>\n",
       "      <td>0</td>\n",
       "      <td>0</td>\n",
       "      <td>0</td>\n",
       "      <td>0</td>\n",
       "      <td>0</td>\n",
       "      <td>0</td>\n",
       "      <td>...</td>\n",
       "      <td>0</td>\n",
       "      <td>0</td>\n",
       "      <td>0</td>\n",
       "      <td>0</td>\n",
       "      <td>0</td>\n",
       "      <td>1</td>\n",
       "      <td>0</td>\n",
       "      <td>0</td>\n",
       "      <td>0</td>\n",
       "      <td>0</td>\n",
       "    </tr>\n",
       "    <tr>\n",
       "      <th>1</th>\n",
       "      <td>16</td>\n",
       "      <td>0</td>\n",
       "      <td>2</td>\n",
       "      <td>0</td>\n",
       "      <td>0</td>\n",
       "      <td>0</td>\n",
       "      <td>0</td>\n",
       "      <td>0</td>\n",
       "      <td>0</td>\n",
       "      <td>0</td>\n",
       "      <td>...</td>\n",
       "      <td>0</td>\n",
       "      <td>0</td>\n",
       "      <td>0</td>\n",
       "      <td>0</td>\n",
       "      <td>0</td>\n",
       "      <td>1</td>\n",
       "      <td>0</td>\n",
       "      <td>0</td>\n",
       "      <td>0</td>\n",
       "      <td>0</td>\n",
       "    </tr>\n",
       "    <tr>\n",
       "      <th>2</th>\n",
       "      <td>104</td>\n",
       "      <td>0</td>\n",
       "      <td>3</td>\n",
       "      <td>1</td>\n",
       "      <td>0</td>\n",
       "      <td>0</td>\n",
       "      <td>0</td>\n",
       "      <td>0</td>\n",
       "      <td>0</td>\n",
       "      <td>0</td>\n",
       "      <td>...</td>\n",
       "      <td>0</td>\n",
       "      <td>0</td>\n",
       "      <td>0</td>\n",
       "      <td>0</td>\n",
       "      <td>0</td>\n",
       "      <td>1</td>\n",
       "      <td>0</td>\n",
       "      <td>0</td>\n",
       "      <td>0</td>\n",
       "      <td>0</td>\n",
       "    </tr>\n",
       "    <tr>\n",
       "      <th>3</th>\n",
       "      <td>208</td>\n",
       "      <td>0</td>\n",
       "      <td>3</td>\n",
       "      <td>0</td>\n",
       "      <td>0</td>\n",
       "      <td>0</td>\n",
       "      <td>0</td>\n",
       "      <td>0</td>\n",
       "      <td>0</td>\n",
       "      <td>0</td>\n",
       "      <td>...</td>\n",
       "      <td>0</td>\n",
       "      <td>0</td>\n",
       "      <td>0</td>\n",
       "      <td>0</td>\n",
       "      <td>0</td>\n",
       "      <td>1</td>\n",
       "      <td>0</td>\n",
       "      <td>0</td>\n",
       "      <td>0</td>\n",
       "      <td>0</td>\n",
       "    </tr>\n",
       "    <tr>\n",
       "      <th>4</th>\n",
       "      <td>136</td>\n",
       "      <td>0</td>\n",
       "      <td>4</td>\n",
       "      <td>1</td>\n",
       "      <td>0</td>\n",
       "      <td>0</td>\n",
       "      <td>0</td>\n",
       "      <td>0</td>\n",
       "      <td>0</td>\n",
       "      <td>0</td>\n",
       "      <td>...</td>\n",
       "      <td>0</td>\n",
       "      <td>0</td>\n",
       "      <td>0</td>\n",
       "      <td>0</td>\n",
       "      <td>0</td>\n",
       "      <td>1</td>\n",
       "      <td>0</td>\n",
       "      <td>0</td>\n",
       "      <td>0</td>\n",
       "      <td>0</td>\n",
       "    </tr>\n",
       "  </tbody>\n",
       "</table>\n",
       "<p>5 rows × 106 columns</p>\n",
       "</div>"
      ],
      "text/plain": [
       "   Deaths  Cause_substance abuse  Age_Range_encoded  Sex_Female  \\\n",
       "0      16                      0                  2           1   \n",
       "1      16                      0                  2           0   \n",
       "2     104                      0                  3           1   \n",
       "3     208                      0                  3           0   \n",
       "4     136                      0                  4           1   \n",
       "\n",
       "   Sex_Unspecified  Country_Anguilla  Country_Antigua and Barbuda  \\\n",
       "0                0                 0                            0   \n",
       "1                0                 0                            0   \n",
       "2                0                 0                            0   \n",
       "3                0                 0                            0   \n",
       "4                0                 0                            0   \n",
       "\n",
       "   Country_Argentina  Country_Armenia  Country_Aruba  ...  Country_Tunisia  \\\n",
       "0                  0                0              0  ...                0   \n",
       "1                  0                0              0  ...                0   \n",
       "2                  0                0              0  ...                0   \n",
       "3                  0                0              0  ...                0   \n",
       "4                  0                0              0  ...                0   \n",
       "\n",
       "   Country_Turkey  Country_Turks and Caicos Islands  Country_Ukraine  \\\n",
       "0               0                                 0                0   \n",
       "1               0                                 0                0   \n",
       "2               0                                 0                0   \n",
       "3               0                                 0                0   \n",
       "4               0                                 0                0   \n",
       "\n",
       "   Country_United Arab Emirates  Country_United Kingdom  \\\n",
       "0                             0                       1   \n",
       "1                             0                       1   \n",
       "2                             0                       1   \n",
       "3                             0                       1   \n",
       "4                             0                       1   \n",
       "\n",
       "   Country_United States of America  Country_Uruguay  Country_Uzbekistan  \\\n",
       "0                                 0                0                   0   \n",
       "1                                 0                0                   0   \n",
       "2                                 0                0                   0   \n",
       "3                                 0                0                   0   \n",
       "4                                 0                0                   0   \n",
       "\n",
       "   Country_Virgin Islands (USA)  \n",
       "0                             0  \n",
       "1                             0  \n",
       "2                             0  \n",
       "3                             0  \n",
       "4                             0  \n",
       "\n",
       "[5 rows x 106 columns]"
      ]
     },
     "execution_count": 109,
     "metadata": {},
     "output_type": "execute_result"
    }
   ],
   "source": [
    "# Categorical Features: Country\n",
    "\n",
    "ml_df = convert_dummy(ml_df, 'Country')\n",
    "ml_df.head()"
   ]
  },
  {
   "cell_type": "code",
   "execution_count": 110,
   "id": "275fbb93",
   "metadata": {},
   "outputs": [],
   "source": [
    "# Feature column X and target column Y\n",
    "\n",
    "y = ml_df['Deaths']\n",
    "X = ml_df.drop(['Deaths'], axis = 1)"
   ]
  },
  {
   "cell_type": "code",
   "execution_count": 111,
   "id": "c9f2dac8",
   "metadata": {},
   "outputs": [],
   "source": [
    "# Create test set and training set\n",
    "\n",
    "from sklearn.model_selection import train_test_split\n",
    "\n",
    "X_train, X_test, y_train, y_test = train_test_split(X, y, test_size = 0.2, random_state = 42)\n",
    "np.random.seed(42)"
   ]
  },
  {
   "cell_type": "code",
   "execution_count": 112,
   "id": "cbef3826",
   "metadata": {},
   "outputs": [],
   "source": [
    "# Standard Scaler\n",
    "\n",
    "from sklearn.preprocessing import StandardScaler\n",
    "\n",
    "scaler = StandardScaler()\n",
    "\n",
    "X_train_scaled = scaler.fit_transform(X_train)\n",
    "X_test_scaled = scaler.transform(X_test)"
   ]
  },
  {
   "cell_type": "markdown",
   "id": "5485d414",
   "metadata": {},
   "source": [
    "## Linear Regression"
   ]
  },
  {
   "cell_type": "code",
   "execution_count": 113,
   "id": "b3359e78",
   "metadata": {
    "scrolled": true
   },
   "outputs": [
    {
     "data": {
      "text/html": [
       "<div>\n",
       "<style scoped>\n",
       "    .dataframe tbody tr th:only-of-type {\n",
       "        vertical-align: middle;\n",
       "    }\n",
       "\n",
       "    .dataframe tbody tr th {\n",
       "        vertical-align: top;\n",
       "    }\n",
       "\n",
       "    .dataframe thead th {\n",
       "        text-align: right;\n",
       "    }\n",
       "</style>\n",
       "<table border=\"1\" class=\"dataframe\">\n",
       "  <thead>\n",
       "    <tr style=\"text-align: right;\">\n",
       "      <th></th>\n",
       "      <th>Model</th>\n",
       "      <th>MSE</th>\n",
       "      <th>RMSE</th>\n",
       "      <th>MAE</th>\n",
       "      <th>R-squared</th>\n",
       "    </tr>\n",
       "  </thead>\n",
       "  <tbody>\n",
       "    <tr>\n",
       "      <th>0</th>\n",
       "      <td>Linear Regression</td>\n",
       "      <td>24392.016644</td>\n",
       "      <td>156.179437</td>\n",
       "      <td>57.994486</td>\n",
       "      <td>0.359656</td>\n",
       "    </tr>\n",
       "  </tbody>\n",
       "</table>\n",
       "</div>"
      ],
      "text/plain": [
       "               Model           MSE        RMSE        MAE  R-squared\n",
       "0  Linear Regression  24392.016644  156.179437  57.994486   0.359656"
      ]
     },
     "execution_count": 113,
     "metadata": {},
     "output_type": "execute_result"
    }
   ],
   "source": [
    "from sklearn.linear_model import LinearRegression\n",
    "\n",
    "model = LinearRegression()\n",
    "model.fit(X_train_scaled, y_train)\n",
    "y_pred = model.predict(X_test_scaled)\n",
    "\n",
    "results = get_indicators('Linear Regression', y_test, y_pred)\n",
    "\n",
    "EItable.loc[len(EItable)] = results\n",
    "EItable"
   ]
  },
  {
   "cell_type": "markdown",
   "id": "6b764416",
   "metadata": {},
   "source": [
    "## Decision Tree"
   ]
  },
  {
   "cell_type": "code",
   "execution_count": 114,
   "id": "84daef6f",
   "metadata": {},
   "outputs": [
    {
     "data": {
      "text/html": [
       "<div>\n",
       "<style scoped>\n",
       "    .dataframe tbody tr th:only-of-type {\n",
       "        vertical-align: middle;\n",
       "    }\n",
       "\n",
       "    .dataframe tbody tr th {\n",
       "        vertical-align: top;\n",
       "    }\n",
       "\n",
       "    .dataframe thead th {\n",
       "        text-align: right;\n",
       "    }\n",
       "</style>\n",
       "<table border=\"1\" class=\"dataframe\">\n",
       "  <thead>\n",
       "    <tr style=\"text-align: right;\">\n",
       "      <th></th>\n",
       "      <th>Model</th>\n",
       "      <th>MSE</th>\n",
       "      <th>RMSE</th>\n",
       "      <th>MAE</th>\n",
       "      <th>R-squared</th>\n",
       "    </tr>\n",
       "  </thead>\n",
       "  <tbody>\n",
       "    <tr>\n",
       "      <th>0</th>\n",
       "      <td>Linear Regression</td>\n",
       "      <td>24392.016644</td>\n",
       "      <td>156.179437</td>\n",
       "      <td>57.994486</td>\n",
       "      <td>0.359656</td>\n",
       "    </tr>\n",
       "    <tr>\n",
       "      <th>1</th>\n",
       "      <td>Decision Tree</td>\n",
       "      <td>3236.958043</td>\n",
       "      <td>56.894271</td>\n",
       "      <td>11.792163</td>\n",
       "      <td>0.915023</td>\n",
       "    </tr>\n",
       "  </tbody>\n",
       "</table>\n",
       "</div>"
      ],
      "text/plain": [
       "               Model           MSE        RMSE        MAE  R-squared\n",
       "0  Linear Regression  24392.016644  156.179437  57.994486   0.359656\n",
       "1      Decision Tree   3236.958043   56.894271  11.792163   0.915023"
      ]
     },
     "execution_count": 114,
     "metadata": {},
     "output_type": "execute_result"
    }
   ],
   "source": [
    "from sklearn.tree import DecisionTreeRegressor\n",
    "\n",
    "model = DecisionTreeRegressor()\n",
    "model.fit(X_train_scaled, y_train)\n",
    "y_pred = model.predict(X_test_scaled)\n",
    "\n",
    "results = get_indicators('Decision Tree', y_test, y_pred)\n",
    "\n",
    "EItable.loc[len(EItable)] = results\n",
    "EItable"
   ]
  },
  {
   "cell_type": "markdown",
   "id": "9a1180f9",
   "metadata": {},
   "source": [
    "## Random Forest"
   ]
  },
  {
   "cell_type": "code",
   "execution_count": 115,
   "id": "10582f83",
   "metadata": {},
   "outputs": [
    {
     "data": {
      "text/html": [
       "<div>\n",
       "<style scoped>\n",
       "    .dataframe tbody tr th:only-of-type {\n",
       "        vertical-align: middle;\n",
       "    }\n",
       "\n",
       "    .dataframe tbody tr th {\n",
       "        vertical-align: top;\n",
       "    }\n",
       "\n",
       "    .dataframe thead th {\n",
       "        text-align: right;\n",
       "    }\n",
       "</style>\n",
       "<table border=\"1\" class=\"dataframe\">\n",
       "  <thead>\n",
       "    <tr style=\"text-align: right;\">\n",
       "      <th></th>\n",
       "      <th>Model</th>\n",
       "      <th>MSE</th>\n",
       "      <th>RMSE</th>\n",
       "      <th>MAE</th>\n",
       "      <th>R-squared</th>\n",
       "    </tr>\n",
       "  </thead>\n",
       "  <tbody>\n",
       "    <tr>\n",
       "      <th>0</th>\n",
       "      <td>Linear Regression</td>\n",
       "      <td>24392.016644</td>\n",
       "      <td>156.179437</td>\n",
       "      <td>57.994486</td>\n",
       "      <td>0.359656</td>\n",
       "    </tr>\n",
       "    <tr>\n",
       "      <th>1</th>\n",
       "      <td>Decision Tree</td>\n",
       "      <td>3236.958043</td>\n",
       "      <td>56.894271</td>\n",
       "      <td>11.792163</td>\n",
       "      <td>0.915023</td>\n",
       "    </tr>\n",
       "    <tr>\n",
       "      <th>2</th>\n",
       "      <td>Random Forest</td>\n",
       "      <td>4476.104164</td>\n",
       "      <td>66.903693</td>\n",
       "      <td>24.752163</td>\n",
       "      <td>0.882493</td>\n",
       "    </tr>\n",
       "  </tbody>\n",
       "</table>\n",
       "</div>"
      ],
      "text/plain": [
       "               Model           MSE        RMSE        MAE  R-squared\n",
       "0  Linear Regression  24392.016644  156.179437  57.994486   0.359656\n",
       "1      Decision Tree   3236.958043   56.894271  11.792163   0.915023\n",
       "2      Random Forest   4476.104164   66.903693  24.752163   0.882493"
      ]
     },
     "execution_count": 115,
     "metadata": {},
     "output_type": "execute_result"
    }
   ],
   "source": [
    "from sklearn.ensemble import RandomForestRegressor\n",
    "\n",
    "model = RandomForestRegressor()\n",
    "model.fit(X_train_scaled, y_train)\n",
    "y_pred = model.predict(X_test_scaled)\n",
    "\n",
    "results = get_indicators('Random Forest', y_test, y_pred)\n",
    "\n",
    "EItable.loc[len(EItable)] = results\n",
    "EItable"
   ]
  },
  {
   "cell_type": "markdown",
   "id": "f7e47b02",
   "metadata": {},
   "source": [
    "## Gradient Boosting"
   ]
  },
  {
   "cell_type": "code",
   "execution_count": 116,
   "id": "124e6d00",
   "metadata": {},
   "outputs": [
    {
     "data": {
      "text/html": [
       "<div>\n",
       "<style scoped>\n",
       "    .dataframe tbody tr th:only-of-type {\n",
       "        vertical-align: middle;\n",
       "    }\n",
       "\n",
       "    .dataframe tbody tr th {\n",
       "        vertical-align: top;\n",
       "    }\n",
       "\n",
       "    .dataframe thead th {\n",
       "        text-align: right;\n",
       "    }\n",
       "</style>\n",
       "<table border=\"1\" class=\"dataframe\">\n",
       "  <thead>\n",
       "    <tr style=\"text-align: right;\">\n",
       "      <th></th>\n",
       "      <th>Model</th>\n",
       "      <th>MSE</th>\n",
       "      <th>RMSE</th>\n",
       "      <th>MAE</th>\n",
       "      <th>R-squared</th>\n",
       "    </tr>\n",
       "  </thead>\n",
       "  <tbody>\n",
       "    <tr>\n",
       "      <th>0</th>\n",
       "      <td>Linear Regression</td>\n",
       "      <td>24392.016644</td>\n",
       "      <td>156.179437</td>\n",
       "      <td>57.994486</td>\n",
       "      <td>0.359656</td>\n",
       "    </tr>\n",
       "    <tr>\n",
       "      <th>1</th>\n",
       "      <td>Decision Tree</td>\n",
       "      <td>3236.958043</td>\n",
       "      <td>56.894271</td>\n",
       "      <td>11.792163</td>\n",
       "      <td>0.915023</td>\n",
       "    </tr>\n",
       "    <tr>\n",
       "      <th>2</th>\n",
       "      <td>Random Forest</td>\n",
       "      <td>4476.104164</td>\n",
       "      <td>66.903693</td>\n",
       "      <td>24.752163</td>\n",
       "      <td>0.882493</td>\n",
       "    </tr>\n",
       "    <tr>\n",
       "      <th>3</th>\n",
       "      <td>Gradient Boosting</td>\n",
       "      <td>9539.528186</td>\n",
       "      <td>97.670508</td>\n",
       "      <td>38.278393</td>\n",
       "      <td>0.749567</td>\n",
       "    </tr>\n",
       "  </tbody>\n",
       "</table>\n",
       "</div>"
      ],
      "text/plain": [
       "               Model           MSE        RMSE        MAE  R-squared\n",
       "0  Linear Regression  24392.016644  156.179437  57.994486   0.359656\n",
       "1      Decision Tree   3236.958043   56.894271  11.792163   0.915023\n",
       "2      Random Forest   4476.104164   66.903693  24.752163   0.882493\n",
       "3  Gradient Boosting   9539.528186   97.670508  38.278393   0.749567"
      ]
     },
     "execution_count": 116,
     "metadata": {},
     "output_type": "execute_result"
    }
   ],
   "source": [
    "from sklearn.ensemble import GradientBoostingRegressor\n",
    "\n",
    "model = GradientBoostingRegressor()\n",
    "model.fit(X_train_scaled, y_train)\n",
    "y_pred = model.predict(X_test_scaled)\n",
    "\n",
    "results = get_indicators('Gradient Boosting', y_test, y_pred)\n",
    "\n",
    "EItable.loc[len(EItable)] = results\n",
    "EItable"
   ]
  },
  {
   "cell_type": "markdown",
   "id": "789fe0e5",
   "metadata": {},
   "source": [
    "## SVR"
   ]
  },
  {
   "cell_type": "code",
   "execution_count": 117,
   "id": "9dde6077",
   "metadata": {},
   "outputs": [
    {
     "data": {
      "text/html": [
       "<div>\n",
       "<style scoped>\n",
       "    .dataframe tbody tr th:only-of-type {\n",
       "        vertical-align: middle;\n",
       "    }\n",
       "\n",
       "    .dataframe tbody tr th {\n",
       "        vertical-align: top;\n",
       "    }\n",
       "\n",
       "    .dataframe thead th {\n",
       "        text-align: right;\n",
       "    }\n",
       "</style>\n",
       "<table border=\"1\" class=\"dataframe\">\n",
       "  <thead>\n",
       "    <tr style=\"text-align: right;\">\n",
       "      <th></th>\n",
       "      <th>Model</th>\n",
       "      <th>MSE</th>\n",
       "      <th>RMSE</th>\n",
       "      <th>MAE</th>\n",
       "      <th>R-squared</th>\n",
       "    </tr>\n",
       "  </thead>\n",
       "  <tbody>\n",
       "    <tr>\n",
       "      <th>0</th>\n",
       "      <td>Linear Regression</td>\n",
       "      <td>24392.016644</td>\n",
       "      <td>156.179437</td>\n",
       "      <td>57.994486</td>\n",
       "      <td>0.359656</td>\n",
       "    </tr>\n",
       "    <tr>\n",
       "      <th>1</th>\n",
       "      <td>Decision Tree</td>\n",
       "      <td>3236.958043</td>\n",
       "      <td>56.894271</td>\n",
       "      <td>11.792163</td>\n",
       "      <td>0.915023</td>\n",
       "    </tr>\n",
       "    <tr>\n",
       "      <th>2</th>\n",
       "      <td>Random Forest</td>\n",
       "      <td>4476.104164</td>\n",
       "      <td>66.903693</td>\n",
       "      <td>24.752163</td>\n",
       "      <td>0.882493</td>\n",
       "    </tr>\n",
       "    <tr>\n",
       "      <th>3</th>\n",
       "      <td>Gradient Boosting</td>\n",
       "      <td>9539.528186</td>\n",
       "      <td>97.670508</td>\n",
       "      <td>38.278393</td>\n",
       "      <td>0.749567</td>\n",
       "    </tr>\n",
       "    <tr>\n",
       "      <th>4</th>\n",
       "      <td>SVR</td>\n",
       "      <td>35748.722436</td>\n",
       "      <td>189.073326</td>\n",
       "      <td>41.686402</td>\n",
       "      <td>0.061518</td>\n",
       "    </tr>\n",
       "  </tbody>\n",
       "</table>\n",
       "</div>"
      ],
      "text/plain": [
       "               Model           MSE        RMSE        MAE  R-squared\n",
       "0  Linear Regression  24392.016644  156.179437  57.994486   0.359656\n",
       "1      Decision Tree   3236.958043   56.894271  11.792163   0.915023\n",
       "2      Random Forest   4476.104164   66.903693  24.752163   0.882493\n",
       "3  Gradient Boosting   9539.528186   97.670508  38.278393   0.749567\n",
       "4                SVR  35748.722436  189.073326  41.686402   0.061518"
      ]
     },
     "execution_count": 117,
     "metadata": {},
     "output_type": "execute_result"
    }
   ],
   "source": [
    "from sklearn.svm import SVR\n",
    "\n",
    "model = SVR()\n",
    "model.fit(X_train_scaled, y_train)\n",
    "y_pred = model.predict(X_test_scaled)\n",
    "\n",
    "results = get_indicators('SVR', y_test, y_pred)\n",
    "\n",
    "EItable.loc[len(EItable)] = results\n",
    "EItable"
   ]
  },
  {
   "cell_type": "markdown",
   "id": "a33f316e",
   "metadata": {},
   "source": [
    "## KNN"
   ]
  },
  {
   "cell_type": "code",
   "execution_count": 118,
   "id": "93e3ed57",
   "metadata": {},
   "outputs": [
    {
     "data": {
      "text/html": [
       "<div>\n",
       "<style scoped>\n",
       "    .dataframe tbody tr th:only-of-type {\n",
       "        vertical-align: middle;\n",
       "    }\n",
       "\n",
       "    .dataframe tbody tr th {\n",
       "        vertical-align: top;\n",
       "    }\n",
       "\n",
       "    .dataframe thead th {\n",
       "        text-align: right;\n",
       "    }\n",
       "</style>\n",
       "<table border=\"1\" class=\"dataframe\">\n",
       "  <thead>\n",
       "    <tr style=\"text-align: right;\">\n",
       "      <th></th>\n",
       "      <th>Model</th>\n",
       "      <th>MSE</th>\n",
       "      <th>RMSE</th>\n",
       "      <th>MAE</th>\n",
       "      <th>R-squared</th>\n",
       "    </tr>\n",
       "  </thead>\n",
       "  <tbody>\n",
       "    <tr>\n",
       "      <th>0</th>\n",
       "      <td>Linear Regression</td>\n",
       "      <td>24392.016644</td>\n",
       "      <td>156.179437</td>\n",
       "      <td>57.994486</td>\n",
       "      <td>0.359656</td>\n",
       "    </tr>\n",
       "    <tr>\n",
       "      <th>1</th>\n",
       "      <td>Decision Tree</td>\n",
       "      <td>3236.958043</td>\n",
       "      <td>56.894271</td>\n",
       "      <td>11.792163</td>\n",
       "      <td>0.915023</td>\n",
       "    </tr>\n",
       "    <tr>\n",
       "      <th>2</th>\n",
       "      <td>Random Forest</td>\n",
       "      <td>4476.104164</td>\n",
       "      <td>66.903693</td>\n",
       "      <td>24.752163</td>\n",
       "      <td>0.882493</td>\n",
       "    </tr>\n",
       "    <tr>\n",
       "      <th>3</th>\n",
       "      <td>Gradient Boosting</td>\n",
       "      <td>9539.528186</td>\n",
       "      <td>97.670508</td>\n",
       "      <td>38.278393</td>\n",
       "      <td>0.749567</td>\n",
       "    </tr>\n",
       "    <tr>\n",
       "      <th>4</th>\n",
       "      <td>SVR</td>\n",
       "      <td>35748.722436</td>\n",
       "      <td>189.073326</td>\n",
       "      <td>41.686402</td>\n",
       "      <td>0.061518</td>\n",
       "    </tr>\n",
       "    <tr>\n",
       "      <th>5</th>\n",
       "      <td>KNN</td>\n",
       "      <td>1022.174507</td>\n",
       "      <td>31.971464</td>\n",
       "      <td>7.003468</td>\n",
       "      <td>0.973166</td>\n",
       "    </tr>\n",
       "  </tbody>\n",
       "</table>\n",
       "</div>"
      ],
      "text/plain": [
       "               Model           MSE        RMSE        MAE  R-squared\n",
       "0  Linear Regression  24392.016644  156.179437  57.994486   0.359656\n",
       "1      Decision Tree   3236.958043   56.894271  11.792163   0.915023\n",
       "2      Random Forest   4476.104164   66.903693  24.752163   0.882493\n",
       "3  Gradient Boosting   9539.528186   97.670508  38.278393   0.749567\n",
       "4                SVR  35748.722436  189.073326  41.686402   0.061518\n",
       "5                KNN   1022.174507   31.971464   7.003468   0.973166"
      ]
     },
     "execution_count": 118,
     "metadata": {},
     "output_type": "execute_result"
    }
   ],
   "source": [
    "from sklearn.neighbors import KNeighborsRegressor\n",
    "\n",
    "model = KNeighborsRegressor(n_neighbors = 2)\n",
    "model.fit(X_train_scaled, y_train)\n",
    "y_pred = model.predict(X_test_scaled)\n",
    "\n",
    "results = get_indicators('KNN', y_test, y_pred)\n",
    "\n",
    "EItable.loc[len(EItable)] = results\n",
    "EItable"
   ]
  },
  {
   "cell_type": "markdown",
   "id": "b554c045",
   "metadata": {},
   "source": [
    "## Model Optimization: Decision Tree"
   ]
  },
  {
   "cell_type": "code",
   "execution_count": 119,
   "id": "a3604f90",
   "metadata": {
    "scrolled": false
   },
   "outputs": [
    {
     "name": "stdout",
     "output_type": "stream",
     "text": [
      "Best Parameters for Decision Tree: {'max_depth': None, 'min_samples_leaf': 2, 'min_samples_split': 2}\n"
     ]
    },
    {
     "data": {
      "text/html": [
       "<div>\n",
       "<style scoped>\n",
       "    .dataframe tbody tr th:only-of-type {\n",
       "        vertical-align: middle;\n",
       "    }\n",
       "\n",
       "    .dataframe tbody tr th {\n",
       "        vertical-align: top;\n",
       "    }\n",
       "\n",
       "    .dataframe thead th {\n",
       "        text-align: right;\n",
       "    }\n",
       "</style>\n",
       "<table border=\"1\" class=\"dataframe\">\n",
       "  <thead>\n",
       "    <tr style=\"text-align: right;\">\n",
       "      <th></th>\n",
       "      <th>Model</th>\n",
       "      <th>MSE</th>\n",
       "      <th>RMSE</th>\n",
       "      <th>MAE</th>\n",
       "      <th>R-squared</th>\n",
       "    </tr>\n",
       "  </thead>\n",
       "  <tbody>\n",
       "    <tr>\n",
       "      <th>0</th>\n",
       "      <td>Linear Regression</td>\n",
       "      <td>24392.016644</td>\n",
       "      <td>156.179437</td>\n",
       "      <td>57.994486</td>\n",
       "      <td>0.359656</td>\n",
       "    </tr>\n",
       "    <tr>\n",
       "      <th>1</th>\n",
       "      <td>Decision Tree</td>\n",
       "      <td>3236.958043</td>\n",
       "      <td>56.894271</td>\n",
       "      <td>11.792163</td>\n",
       "      <td>0.915023</td>\n",
       "    </tr>\n",
       "    <tr>\n",
       "      <th>2</th>\n",
       "      <td>Random Forest</td>\n",
       "      <td>4476.104164</td>\n",
       "      <td>66.903693</td>\n",
       "      <td>24.752163</td>\n",
       "      <td>0.882493</td>\n",
       "    </tr>\n",
       "    <tr>\n",
       "      <th>3</th>\n",
       "      <td>Gradient Boosting</td>\n",
       "      <td>9539.528186</td>\n",
       "      <td>97.670508</td>\n",
       "      <td>38.278393</td>\n",
       "      <td>0.749567</td>\n",
       "    </tr>\n",
       "    <tr>\n",
       "      <th>4</th>\n",
       "      <td>SVR</td>\n",
       "      <td>35748.722436</td>\n",
       "      <td>189.073326</td>\n",
       "      <td>41.686402</td>\n",
       "      <td>0.061518</td>\n",
       "    </tr>\n",
       "    <tr>\n",
       "      <th>5</th>\n",
       "      <td>KNN</td>\n",
       "      <td>1022.174507</td>\n",
       "      <td>31.971464</td>\n",
       "      <td>7.003468</td>\n",
       "      <td>0.973166</td>\n",
       "    </tr>\n",
       "    <tr>\n",
       "      <th>6</th>\n",
       "      <td>Decision Tree_op</td>\n",
       "      <td>1562.253257</td>\n",
       "      <td>39.525350</td>\n",
       "      <td>9.948993</td>\n",
       "      <td>0.958987</td>\n",
       "    </tr>\n",
       "  </tbody>\n",
       "</table>\n",
       "</div>"
      ],
      "text/plain": [
       "               Model           MSE        RMSE        MAE  R-squared\n",
       "0  Linear Regression  24392.016644  156.179437  57.994486   0.359656\n",
       "1      Decision Tree   3236.958043   56.894271  11.792163   0.915023\n",
       "2      Random Forest   4476.104164   66.903693  24.752163   0.882493\n",
       "3  Gradient Boosting   9539.528186   97.670508  38.278393   0.749567\n",
       "4                SVR  35748.722436  189.073326  41.686402   0.061518\n",
       "5                KNN   1022.174507   31.971464   7.003468   0.973166\n",
       "6   Decision Tree_op   1562.253257   39.525350   9.948993   0.958987"
      ]
     },
     "execution_count": 119,
     "metadata": {},
     "output_type": "execute_result"
    }
   ],
   "source": [
    "from sklearn.model_selection import GridSearchCV\n",
    "\n",
    "model_optree = DecisionTreeRegressor()\n",
    "\n",
    "param_grid = {\n",
    "    'max_depth': [None, 5, 10 ,15],\n",
    "    'min_samples_split': [2 ,5, 10],\n",
    "    'min_samples_leaf': [1, 2, 4]\n",
    "}\n",
    "\n",
    "grid_search = GridSearchCV(model_optree, param_grid, cv = 5, scoring ='neg_mean_squared_error')\n",
    "grid_search.fit(X_train_scaled, y_train)\n",
    "\n",
    "best_model_optree = grid_search.best_estimator_\n",
    "\n",
    "print(\"Best Parameters for Decision Tree:\", grid_search.best_params_)\n",
    "\n",
    "y_pred_optree = best_model_optree.predict(X_test_scaled)\n",
    "\n",
    "results = get_indicators('Decision Tree_op', y_test, y_pred_optree)\n",
    "\n",
    "EItable.loc[len(EItable)] = results\n",
    "EItable"
   ]
  },
  {
   "cell_type": "code",
   "execution_count": 120,
   "id": "016fee17",
   "metadata": {},
   "outputs": [
    {
     "name": "stdout",
     "output_type": "stream",
     "text": [
      "Age_Range_encoded: 0.31483888074858035\n",
      "Country_United States of America: 0.2501803052926553\n",
      "Cause_substance abuse: 0.12923401637982015\n",
      "Sex_Female: 0.11808404712360947\n",
      "Country_Russian Federation: 0.02301035766506161\n",
      "Country_Japan: 0.018898305897378575\n",
      "Country_Germany: 0.013522476449165325\n",
      "Country_Republic of Korea: 0.011128491773417487\n",
      "Country_Belarus: 0.009456537438186212\n",
      "Country_Tajikistan: 0.008903435804628292\n",
      "Sex_Unspecified: 0.008258760693548079\n",
      "Country_United Kingdom: 0.007007624039066909\n",
      "Country_Malta: 0.0068458271826475885\n",
      "Country_Ukraine: 0.004594241067052684\n",
      "Country_Poland: 0.00446288566154128\n",
      "Country_Ireland: 0.0042730799232825\n",
      "Country_Mexico: 0.003999180536453221\n",
      "Country_Virgin Islands (USA): 0.0038843129952808204\n",
      "Country_Puerto Rico: 0.003829735685263278\n",
      "Country_Thailand: 0.0033314061342814547\n",
      "Country_France: 0.0032982706518110156\n",
      "Country_Bermuda: 0.0027309405300014232\n",
      "Country_Hong Kong SAR: 0.002526601656870517\n",
      "Country_Libyan Arab Jamahiriya: 0.0023385096945750276\n",
      "Country_Rodrigues: 0.0021066966486960165\n",
      "Country_Spain: 0.0020696830572065985\n",
      "Country_Canada: 0.001985926131027633\n",
      "Country_Italy: 0.0016872252714543563\n",
      "Country_Australia: 0.0016778172278279488\n",
      "Country_Hungary: 0.0015184824737846507\n",
      "Country_Solomon Islands: 0.0013153885182057192\n",
      "Country_Colombia: 0.001301158645953009\n",
      "Country_Kazakhstan: 0.0011983998168203444\n",
      "Country_Turkey: 0.001195807295112746\n",
      "Country_Philippines: 0.0011761715417841585\n",
      "Country_Sweden: 0.0010304819651039813\n",
      "Country_Anguilla: 0.0009252811145904643\n",
      "Country_South Africa: 0.0008229075835905014\n",
      "Country_Dominican Republic: 0.0008019411232589086\n",
      "Country_Cuba: 0.0007772615790607185\n",
      "Country_El Salvador: 0.0007541758498234533\n",
      "Country_Occupied Palestinian Territory: 0.0007422343312425484\n",
      "Country_Brunei Darussalam: 0.000731380465496291\n",
      "Country_Republic of Moldova: 0.0007236995807808988\n",
      "Country_Austria: 0.0006510348964685959\n",
      "Country_Saint Vincent and Grenadines: 0.0006440184377407593\n",
      "Country_Netherlands: 0.0006271058438719016\n",
      "Country_Belgium: 0.0005948476551330518\n",
      "Country_Argentina: 0.0005857389976830198\n",
      "Country_Czech Republic: 0.0005681146182987037\n",
      "Country_Romania: 0.0005539463002606106\n",
      "Country_Uzbekistan: 0.0005506942769648814\n",
      "Country_Portugal: 0.0005100909647788752\n",
      "Country_Croatia: 0.0005030390708459202\n",
      "Country_Chile: 0.00044921681533913134\n",
      "Country_Dominica: 0.00043856440880348966\n",
      "Country_Ecuador: 0.00042881726766483833\n",
      "Country_Switzerland: 0.0004194835630370347\n",
      "Country_Guatemala: 0.00038048771551378764\n",
      "Country_Finland: 0.0003563325754623668\n",
      "Country_Denmark: 0.0003368564299342194\n",
      "Country_Serbia: 0.0003239617812916896\n",
      "Country_Slovakia: 0.00030655653069896257\n",
      "Country_Uruguay: 0.0003045158736218786\n",
      "Country_Paraguay: 0.0002952784419799781\n",
      "Country_Slovenia: 0.00028793973253287943\n",
      "Country_Nicaragua: 0.0002788891686607042\n",
      "Country_Tunisia: 0.0002570489795488445\n",
      "Country_Kyrgyzstan: 0.0002368888793991995\n",
      "Country_Georgia: 0.00023183203119748875\n",
      "Country_Bulgaria: 0.0002303594439821599\n",
      "Country_Lithuania: 0.0002240809702025885\n",
      "Country_Kuwait: 0.00022365724635142246\n",
      "Country_Greece: 0.00021933641513520677\n",
      "Country_Peru: 0.00020771552204802278\n",
      "Country_Israel: 0.00020543721326544794\n",
      "Country_Montenegro: 0.00020379243118906097\n",
      "Country_United Arab Emirates: 0.00019825381908982823\n",
      "Country_Bosnia and Herzegovina: 0.0001896035217590701\n",
      "Country_Mongolia: 0.00018717139007591073\n",
      "Country_Guyana: 0.0001850953734592456\n",
      "Country_Latvia: 0.00018137483995230036\n",
      "Country_Panama: 0.00017932073850434504\n",
      "Country_Mauritius: 0.00017713967179657406\n",
      "Country_Costa Rica: 0.00017560402045113297\n",
      "Country_Aruba: 0.00017480208126106276\n",
      "Country_Armenia: 0.00017295904399327808\n",
      "Country_Malaysia: 0.00016977861780692542\n",
      "Country_Cyprus: 0.0001691810295936445\n",
      "Country_North Macedonia: 0.0001652519341401129\n",
      "Country_Estonia: 0.00016443491738971072\n",
      "Country_Saint Lucia: 0.00016297469694668916\n",
      "Country_Egypt: 0.00015866437595981375\n",
      "Country_Oman: 0.00015769072778938834\n",
      "Country_Iceland: 0.00015351283249915904\n",
      "Country_Lebanon: 0.00015289327497328985\n",
      "Country_Luxembourg: 0.00015206172141538792\n",
      "Country_Grenada: 0.00014885285727557422\n",
      "Country_Singapore: 0.00012829085339099663\n",
      "Country_Jordan: 0.00011934270201954666\n",
      "Country_Qatar: 0.00011910094960047458\n",
      "Country_Maldives: 0.00011220196798242172\n",
      "Country_Turks and Caicos Islands: 8.480840567845457e-05\n",
      "Country_Antigua and Barbuda: 4.36018912894186e-05\n",
      "Country_Seychelles: 0.0\n"
     ]
    }
   ],
   "source": [
    "feature_importances = best_model_optree.feature_importances_\n",
    "feature_importance_dict = dict(zip(X.columns, feature_importances))\n",
    "sorted_feature_importance = sorted(feature_importance_dict.items(), key = lambda x: x[1], reverse = True)\n",
    "\n",
    "for feature, importance in sorted_feature_importance:\n",
    "    print(f\"{feature}: {importance}\")"
   ]
  },
  {
   "cell_type": "markdown",
   "id": "0c6db1e1",
   "metadata": {},
   "source": [
    "## Model Optimization: KNN"
   ]
  },
  {
   "cell_type": "code",
   "execution_count": 121,
   "id": "808d67ca",
   "metadata": {},
   "outputs": [
    {
     "name": "stdout",
     "output_type": "stream",
     "text": [
      "Best Parameters for Random KNN: {'kneighborsregressor__n_neighbors': 5, 'kneighborsregressor__weights': 'distance'}\n"
     ]
    },
    {
     "data": {
      "text/html": [
       "<div>\n",
       "<style scoped>\n",
       "    .dataframe tbody tr th:only-of-type {\n",
       "        vertical-align: middle;\n",
       "    }\n",
       "\n",
       "    .dataframe tbody tr th {\n",
       "        vertical-align: top;\n",
       "    }\n",
       "\n",
       "    .dataframe thead th {\n",
       "        text-align: right;\n",
       "    }\n",
       "</style>\n",
       "<table border=\"1\" class=\"dataframe\">\n",
       "  <thead>\n",
       "    <tr style=\"text-align: right;\">\n",
       "      <th></th>\n",
       "      <th>Model</th>\n",
       "      <th>MSE</th>\n",
       "      <th>RMSE</th>\n",
       "      <th>MAE</th>\n",
       "      <th>R-squared</th>\n",
       "    </tr>\n",
       "  </thead>\n",
       "  <tbody>\n",
       "    <tr>\n",
       "      <th>0</th>\n",
       "      <td>Linear Regression</td>\n",
       "      <td>24392.016644</td>\n",
       "      <td>156.179437</td>\n",
       "      <td>57.994486</td>\n",
       "      <td>0.359656</td>\n",
       "    </tr>\n",
       "    <tr>\n",
       "      <th>1</th>\n",
       "      <td>Decision Tree</td>\n",
       "      <td>3236.958043</td>\n",
       "      <td>56.894271</td>\n",
       "      <td>11.792163</td>\n",
       "      <td>0.915023</td>\n",
       "    </tr>\n",
       "    <tr>\n",
       "      <th>2</th>\n",
       "      <td>Random Forest</td>\n",
       "      <td>4476.104164</td>\n",
       "      <td>66.903693</td>\n",
       "      <td>24.752163</td>\n",
       "      <td>0.882493</td>\n",
       "    </tr>\n",
       "    <tr>\n",
       "      <th>3</th>\n",
       "      <td>Gradient Boosting</td>\n",
       "      <td>9539.528186</td>\n",
       "      <td>97.670508</td>\n",
       "      <td>38.278393</td>\n",
       "      <td>0.749567</td>\n",
       "    </tr>\n",
       "    <tr>\n",
       "      <th>4</th>\n",
       "      <td>SVR</td>\n",
       "      <td>35748.722436</td>\n",
       "      <td>189.073326</td>\n",
       "      <td>41.686402</td>\n",
       "      <td>0.061518</td>\n",
       "    </tr>\n",
       "    <tr>\n",
       "      <th>5</th>\n",
       "      <td>KNN</td>\n",
       "      <td>1022.174507</td>\n",
       "      <td>31.971464</td>\n",
       "      <td>7.003468</td>\n",
       "      <td>0.973166</td>\n",
       "    </tr>\n",
       "    <tr>\n",
       "      <th>6</th>\n",
       "      <td>Decision Tree_op</td>\n",
       "      <td>1562.253257</td>\n",
       "      <td>39.525350</td>\n",
       "      <td>9.948993</td>\n",
       "      <td>0.958987</td>\n",
       "    </tr>\n",
       "    <tr>\n",
       "      <th>7</th>\n",
       "      <td>KNN_op</td>\n",
       "      <td>1001.104453</td>\n",
       "      <td>31.640235</td>\n",
       "      <td>6.742046</td>\n",
       "      <td>0.973719</td>\n",
       "    </tr>\n",
       "  </tbody>\n",
       "</table>\n",
       "</div>"
      ],
      "text/plain": [
       "               Model           MSE        RMSE        MAE  R-squared\n",
       "0  Linear Regression  24392.016644  156.179437  57.994486   0.359656\n",
       "1      Decision Tree   3236.958043   56.894271  11.792163   0.915023\n",
       "2      Random Forest   4476.104164   66.903693  24.752163   0.882493\n",
       "3  Gradient Boosting   9539.528186   97.670508  38.278393   0.749567\n",
       "4                SVR  35748.722436  189.073326  41.686402   0.061518\n",
       "5                KNN   1022.174507   31.971464   7.003468   0.973166\n",
       "6   Decision Tree_op   1562.253257   39.525350   9.948993   0.958987\n",
       "7             KNN_op   1001.104453   31.640235   6.742046   0.973719"
      ]
     },
     "execution_count": 121,
     "metadata": {},
     "output_type": "execute_result"
    }
   ],
   "source": [
    "from sklearn.pipeline import make_pipeline\n",
    "\n",
    "model_opknn = make_pipeline(KNeighborsRegressor())\n",
    "\n",
    "param_grid = {\n",
    "    'kneighborsregressor__n_neighbors': [3, 5, 7, 10],\n",
    "    'kneighborsregressor__weights': ['uniform', 'distance']\n",
    "}\n",
    "\n",
    "grid_search = GridSearchCV(model_opknn, param_grid, cv = 5, scoring='neg_mean_squared_error')\n",
    "grid_search.fit(X_train_scaled, y_train)\n",
    "\n",
    "best_model_opknn = grid_search.best_estimator_\n",
    "\n",
    "print(\"Best Parameters for Random KNN:\", grid_search.best_params_)\n",
    "\n",
    "y_pred_opknn = best_model_opknn.predict(X_test_scaled)\n",
    "\n",
    "results = get_indicators('KNN_op', y_test, y_pred_opknn)\n",
    "\n",
    "EItable.loc[len(EItable)] = results\n",
    "EItable"
   ]
  }
 ],
 "metadata": {
  "kernelspec": {
   "display_name": "Python 3 (ipykernel)",
   "language": "python",
   "name": "python3"
  },
  "language_info": {
   "codemirror_mode": {
    "name": "ipython",
    "version": 3
   },
   "file_extension": ".py",
   "mimetype": "text/x-python",
   "name": "python",
   "nbconvert_exporter": "python",
   "pygments_lexer": "ipython3",
   "version": "3.10.9"
  }
 },
 "nbformat": 4,
 "nbformat_minor": 5
}
